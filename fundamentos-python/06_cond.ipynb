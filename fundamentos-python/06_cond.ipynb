{
 "cells": [
  {
   "cell_type": "markdown",
   "metadata": {},
   "source": [
    "# Condições e Laços"
   ]
  },
  {
   "cell_type": "markdown",
   "metadata": {},
   "source": [
    "Nesta Seção, veremos os primeiros tipos de blocos de códigos que podem ser definidos em Python. Blocos são regiões de código que realizam uma tarefa ou um conjunto de tarefas relacionadas. Essas regiões podem definir operações condicionais, iterações (operações repetidas), funções e tipos de dados. Blocos podem ser aninhados, ou seja, é possível definir blocos dentro de blocos, o que equivale à definição de sub-tarefas. Na maior parte das linguagens, os blocos de código são delimitados por algum marcador, como um par de chaves {} ou marcadores de início (*begin*) e fim (*end*), mas Python adota uma abordagem diferente."
   ]
  },
  {
   "cell_type": "markdown",
   "metadata": {},
   "source": [
    "## Blocos e indentação\n",
    "\n",
    "A principal diferença de Python para outras linguagens, como R, C e Java, é a representação de blocos de código usando níveis de indentação, dispensando o uso de chaves para marcar o início e o fim dos blocos. Essa diferença pode ser vista nos blocos de código abaixo, representando a mesma função para calcular a média aritmética de dois valores. O primeiro código está escrito em R e o segundo contém exatamente a mesma função escrita em Python."
   ]
  },
  {
   "cell_type": "markdown",
   "metadata": {},
   "source": [
    "```R\n",
    "mean <- function(value1, value2) {\n",
    "  result <- (value1 + value2) / 2\n",
    "  return(result)\n",
    "}\n",
    "```"
   ]
  },
  {
   "cell_type": "code",
   "execution_count": 2,
   "metadata": {},
   "outputs": [],
   "source": [
    "def mean(value1, value2):\n",
    "    result = (value1 + value2) / 2\n",
    "    return result"
   ]
  },
  {
   "cell_type": "markdown",
   "metadata": {},
   "source": [
    "O uso de indentação para indicar estrutura tem vários benefícios, incluindo:\n",
    "\n",
    "   1. Reduz a necessidade de padrões de código extra: a indentação sempre será de 4 espaços e a IDE usada para escrever o código cuidará de manter essa consistência;\n",
    "   2. Códigos de diferentes fontes são forçados a seguir o mesmo estilo de indentação;\n",
    "   3. Reduz trabalho, pois não é necessário se preocupar com o padrão das chaves **e** da indentação;\n",
    "   4. Mantém um código mais limpo;\n",
    "   5. O código só executará se a indentação estiver correta, portanto, se o código parece correto, ele está correto;\n",
    "   6. Não há como confundir escopos de blocos de código aninhados."
   ]
  },
  {
   "cell_type": "markdown",
   "metadata": {},
   "source": [
    "## Condições\n",
    "\n",
    "Os operadores condicionais **if** (se), **elif** (senão se) e **else** (senão) são usados para definir blocos de código que serão executados apenas se certas condições forem satisfeitas, sendo, portanto, blocos de **controle de fluxo**, pois alteram o fluxo de execução do código, como mostra o fluxograma da {numref}`flow-if`."
   ]
  },
  {
   "cell_type": "markdown",
   "metadata": {},
   "source": [
    ":::{figure-md} flow-if\n",
    "<img src=\"images/flow-if.svg\" alt=\"Fluxograma com estrutura condicional\"/>\n",
    "\n",
    "luxograma com estrutura condicional.\n",
    ":::"
   ]
  },
  {
   "cell_type": "markdown",
   "metadata": {},
   "source": [
    "O fluxograma acima simula uma entrevista de emprego em que a única pergunta é se a pessoa que se candidatou à vaga entende de Python ou não. Em caso afirmativo, a pessoa é imediatamente contratada. Caso contrário, continuará desempregada. Esse tipo de situação pode ser lido como \"**se** (**if**) a pessoa sabe Python, então está contratada; **senão** (**else**), está desempregada. Isso pode ser escrito em Python da seguinte forma:"
   ]
  },
  {
   "cell_type": "code",
   "execution_count": 3,
   "metadata": {},
   "outputs": [
    {
     "output_type": "execute_result",
     "data": {
      "text/plain": [
       "'hired'"
      ]
     },
     "metadata": {},
     "execution_count": 3
    }
   ],
   "source": [
    "knows_python = True\n",
    "\n",
    "if knows_python == True:\n",
    "    situation = 'hired'\n",
    "else:\n",
    "    situation = 'unemployed'\n",
    "\n",
    "situation"
   ]
  },
  {
   "cell_type": "markdown",
   "metadata": {},
   "source": [
    "Note que a variável *situation* não foi definida antes do bloco condicional. Isso não resulta em erro porque só há dois fluxos possíveis para o código, i.e. *knows_python ==* **True** ou *knows_python ==* **False**. Caso uma variável não seja definida em todos os fluxos possíveis, é possível que ocorra um erro. Por exemplo, suponha que, caso seja contratada, a pessoa receberá um salário de R$10000,00. Se a pessoa não souber Python e tentarmos acessar o salário, causaremos um erro."
   ]
  },
  {
   "cell_type": "code",
   "execution_count": 4,
   "metadata": {},
   "outputs": [
    {
     "output_type": "error",
     "ename": "NameError",
     "evalue": "name 'salary' is not defined",
     "traceback": [
      "\u001b[0;31m---------------------------------------------------------------------------\u001b[0m",
      "\u001b[0;31mNameError\u001b[0m                                 Traceback (most recent call last)",
      "\u001b[0;32m<ipython-input-4-a57fd5684b67>\u001b[0m in \u001b[0;36m<module>\u001b[0;34m\u001b[0m\n\u001b[1;32m      7\u001b[0m     \u001b[0msituation\u001b[0m \u001b[0;34m=\u001b[0m \u001b[0;34m'unemployed'\u001b[0m\u001b[0;34m\u001b[0m\u001b[0;34m\u001b[0m\u001b[0m\n\u001b[1;32m      8\u001b[0m \u001b[0;34m\u001b[0m\u001b[0m\n\u001b[0;32m----> 9\u001b[0;31m \u001b[0msalary\u001b[0m\u001b[0;34m\u001b[0m\u001b[0;34m\u001b[0m\u001b[0m\n\u001b[0m",
      "\u001b[0;31mNameError\u001b[0m: name 'salary' is not defined"
     ]
    }
   ],
   "source": [
    "knows_python = False\n",
    "\n",
    "if knows_python == True:\n",
    "    situation = 'hired'\n",
    "    salary = 10000\n",
    "else:\n",
    "    situation = 'unemployed'\n",
    "\n",
    "salary"
   ]
  },
  {
   "cell_type": "markdown",
   "metadata": {},
   "source": [
    "Perceba que a linha que define o bloco condicional inicia com o operador **if**, seguido de uma expressão, e termina com dois pontos. A linha que define o caso contrário contém apenas **else:**. De um modo geral, o **if** testa se a expressão que o segue é **True** ou **False** e executa o bloco de código associado apenas se o resultado da expressão for **True**. Note que, como o operador **if** verifica se a expressão associada é **True**, o código acima é redundante e equivale ao seguinte teste: (*knows_python ==* **True**) *==* **True**. Em outras palavras, a condição poderia ser definida de forma mais simples da seguinte forma:"
   ]
  },
  {
   "cell_type": "code",
   "execution_count": null,
   "metadata": {},
   "outputs": [],
   "source": [
    "knows_python = True\n",
    "\n",
    "if knows_python:\n",
    "    situation = 'hired'\n",
    "else:\n",
    "    situation = 'unemployed'\n",
    "\n",
    "situation"
   ]
  },
  {
   "cell_type": "markdown",
   "metadata": {},
   "source": [
    "Ao dispensar a necessidade de escrever o teste de igualdade explicitamente, Python faz com que o código resultante seja escrito de forma próxima à linguagem natural.\n",
    "\n",
    "Como vimos, o código acima testa se o valor de uma variável booleana é verdadeiro ou falso. Mas, curiosamente, Python também permite testar **True** ou **False** para outros tipos de valores, algo que, apesar de não muito intuitivo, mostra-se frequentemente útil. Os valores que testam **False** incluem **None** (nulo), o valor *0* de qualquer tipo numérico e coleções vazias , i.e. *''*, *()*, *\\[ \\]*, *{}*, **set**(), **range**(*0*). Todos os outros valores testam **True**."
   ]
  },
  {
   "cell_type": "code",
   "execution_count": null,
   "metadata": {},
   "outputs": [],
   "source": [
    "if '':\n",
    "    result = 'tested True'\n",
    "else:\n",
    "    result = 'tested False'\n",
    "\n",
    "result"
   ]
  },
  {
   "cell_type": "code",
   "execution_count": null,
   "metadata": {},
   "outputs": [],
   "source": [
    "if None:\n",
    "    result = 'tested True'\n",
    "else:\n",
    "    result = 'tested False'\n",
    "\n",
    "result    "
   ]
  },
  {
   "cell_type": "markdown",
   "metadata": {},
   "source": [
    "Isso permite testar facilmente se uma lista tem ou elementos ou não. Por exemplo:"
   ]
  },
  {
   "cell_type": "code",
   "execution_count": null,
   "metadata": {},
   "outputs": [],
   "source": [
    "if []:\n",
    "    result = 'lista com elementos'\n",
    "else:\n",
    "    result = 'lista vazia'\n",
    "\n",
    "result"
   ]
  },
  {
   "cell_type": "markdown",
   "metadata": {},
   "source": [
    "A expressão associada ao **if** pode ser tão complexa quanto necessário, usando os operadores que vimos na [Seção 1.3](https://tmfilho.github.io/pyestbook/guide/04_oper.html) e chamadas de funções, que veremos na [Seção 1.6](https://tmfilho.github.io/pyestbook/guide/07_func.html). O código abaixo testa se a média de três valores é maior do que 3 (note que a expressão aritmética é avaliada antes da comparação):"
   ]
  },
  {
   "cell_type": "code",
   "execution_count": null,
   "metadata": {},
   "outputs": [],
   "source": [
    "x1 = 1\n",
    "x2 = 4\n",
    "x3 = 7\n",
    "\n",
    "if (x1 + x2 + x3) / 3 > 3:\n",
    "    result = 'Greater than 3'\n",
    "else:\n",
    "    result = 'Less than or equal to 3'\n",
    "\n",
    "result"
   ]
  },
  {
   "cell_type": "markdown",
   "metadata": {},
   "source": [
    "### Múltiplas condições\n",
    "\n",
    "Os códigos acima todos testaram apenas situações binárias, ou seja, só há duas respostas possíveis. Para testar mais situações no mesmo bloco condicional, existem duas abordagens: testes com mais de uma situação usando o comando **elif** ou **ifs** aninhados. O comando **elif** equivale ao **else if** de outras linguagens de programação e pode ser lido como *senão se*. Vamos imaginar que a entrevista de emprego que simulamos acima não pergunte apenas se há ou não conhecimento de Python, mas quais linguagens de programação são dominadas pela pessoa que se candidatou. Se a pessoa não dominar linguagem alguma, ela continuará desempregada. Caso domine Python e R, será contratada como cientista de dados. Caso ela domine quaisquer linguagens, incluindo Python ou R (mas não as duas juntas), ela será contratada como desenvolvedora de software. Essa entrevista poderia ser escrita em Python da seguinte forma:"
   ]
  },
  {
   "cell_type": "code",
   "execution_count": 9,
   "metadata": {},
   "outputs": [
    {
     "data": {
      "text/plain": [
       "'data scientist'"
      ]
     },
     "execution_count": 9,
     "metadata": {},
     "output_type": "execute_result"
    }
   ],
   "source": [
    "languages = ['Python', 'R']\n",
    "\n",
    "if not languages:\n",
    "    situation = 'unemployed'\n",
    "elif 'Python' in languages and 'R' in languages:\n",
    "    situation = 'data scientist'\n",
    "else:\n",
    "    situation = 'developer'\n",
    "\n",
    "situation"
   ]
  },
  {
   "cell_type": "code",
   "execution_count": 1,
   "metadata": {},
   "outputs": [
    {
     "data": {
      "text/plain": [
       "'developer'"
      ]
     },
     "execution_count": 1,
     "metadata": {},
     "output_type": "execute_result"
    }
   ],
   "source": [
    "languages = ['Python', 'JavaScript', 'C']\n",
    "\n",
    "if not languages:\n",
    "    situation = 'unemployed'\n",
    "elif 'Python' in languages and 'R' in languages:\n",
    "    situation = 'data scientist'\n",
    "else:\n",
    "    situation = 'developer'\n",
    "\n",
    "situation"
   ]
  },
  {
   "cell_type": "markdown",
   "metadata": {},
   "source": [
    "Agora vamos supor que a empresa irá categorizar seu novo cientista de dados como júnior, pleno ou sênior, dependendo da sua experiência. Se o candidato tiver menos de 3 anos de experiência, será contratado como cientista de dados júnior, com pelo menos 3 anos e menos de 5 será contratado como cientista de dados pleno e, com pelo menos 5 anos, cientista de dados sênior. Assim, o código Python da entrevista seria:"
   ]
  },
  {
   "cell_type": "code",
   "execution_count": 2,
   "metadata": {},
   "outputs": [
    {
     "data": {
      "text/plain": [
       "'full data scientist'"
      ]
     },
     "execution_count": 2,
     "metadata": {},
     "output_type": "execute_result"
    }
   ],
   "source": [
    "languages = ['Python', 'R']\n",
    "experience = 4\n",
    "\n",
    "if not languages:\n",
    "    situation = 'unemployed'\n",
    "elif 'Python' in languages and 'R' in languages:\n",
    "    if experience < 3:\n",
    "        situation = 'junior data scientist'\n",
    "    elif experience < 5:\n",
    "        situation = 'full data scientist'\n",
    "    else:\n",
    "        situation = 'senior data scientist'\n",
    "else:\n",
    "    situation = 'developer'\n",
    "\n",
    "situation"
   ]
  },
  {
   "cell_type": "markdown",
   "metadata": {},
   "source": [
    "## Laços\n",
    "\n",
    "Os blocos condicionais alteram o fluxo do programa, mas são executados apenas uma vez. Para executar um bloco de código repetidas vezes, é necessário usar os operadores de laço, como **while** (enquanto) e **for** (para cada). \n",
    "\n",
    "### O comando while\n",
    "O comando **while** executa um bloco de código enquanto uma expressão associada for avaliada como **True**, ou seja, ele funciona como um **if** que se repete. É preciso tomar cuidado ao usá-lo, pois se a expressão associada nunca deixar de ser avaliada como **True**, o código entrará em um laço infinito. Suponha que desejemos remover os elementos de uma lista e somá-los, de forma que, ao final da execução, a lista estará vazia e a variável *total* irá conter a soma desses valores. A operação *pop(0)* remove o primeiro elemento da lista (índice 0) e o retorna, nesse caso atribuindo-o à variável *value*."
   ]
  },
  {
   "cell_type": "code",
   "execution_count": 20,
   "metadata": {},
   "outputs": [
    {
     "data": {
      "text/plain": [
       "18"
      ]
     },
     "execution_count": 20,
     "metadata": {},
     "output_type": "execute_result"
    }
   ],
   "source": [
    "l = [3, 1, 3, 5, 6]\n",
    "\n",
    "total = 0\n",
    "\n",
    "while l:\n",
    "    value = l.pop(0)\n",
    "    total = total + value\n",
    "\n",
    "total"
   ]
  },
  {
   "cell_type": "code",
   "execution_count": 21,
   "metadata": {},
   "outputs": [
    {
     "data": {
      "text/plain": [
       "[]"
      ]
     },
     "execution_count": 21,
     "metadata": {},
     "output_type": "execute_result"
    }
   ],
   "source": [
    "l"
   ]
  },
  {
   "cell_type": "markdown",
   "metadata": {},
   "source": [
    "Note que a expressão testada pelo **while** é apenas a lista *l*. Como vimos anteriormente, uma lista é avaliada como **False** apenas quando está vazia, portanto, o laço **while** irá repetir até que a lista *l* torne-se vazia. Assim como o **if**, o **while** também pode ter um \"caso contrário\", i.e. um bloco definido pelo operador **else**, que irá executar apenas quando a expressão associada ao **while** for avaliada como **False**."
   ]
  },
  {
   "cell_type": "code",
   "execution_count": 27,
   "metadata": {},
   "outputs": [
    {
     "data": {
      "text/plain": [
       "'the list is empty'"
      ]
     },
     "execution_count": 27,
     "metadata": {},
     "output_type": "execute_result"
    }
   ],
   "source": [
    "l = [3, 1, 3, 5, 6]\n",
    "\n",
    "total = 0\n",
    "message = 'the list is not empty'\n",
    "\n",
    "while l:\n",
    "    value = l.pop(0)\n",
    "    total = total + value\n",
    "else:\n",
    "    message = 'the list is empty'\n",
    "    \n",
    "message"
   ]
  },
  {
   "cell_type": "markdown",
   "metadata": {},
   "source": [
    "A execução do laço **while** pode ser afetada por dois comandos: **break** e **continue**. O comando **break** termina a execução do laço completamente, ou seja, nem mesmo o bloco associado ao **else** é executado. No código abaixo, se o valor 5 for encontrado enquanto a lista está sendo processada, a execução irá parar. Note que a variável *message* permanecerá inalterada, pois seu valor só é modificado no **else**. Além disso, a variável *total* irá conter apenas o valor 7 (3 + 1 + 3)."
   ]
  },
  {
   "cell_type": "code",
   "execution_count": 26,
   "metadata": {},
   "outputs": [
    {
     "data": {
      "text/plain": [
       "'the list is not empty'"
      ]
     },
     "execution_count": 26,
     "metadata": {},
     "output_type": "execute_result"
    }
   ],
   "source": [
    "l = [3, 1, 3, 5, 6]\n",
    "\n",
    "total = 0\n",
    "message = 'the list is not empty'\n",
    "\n",
    "while l:\n",
    "    value = l.pop(0)\n",
    "    if value == 5:\n",
    "        break\n",
    "        \n",
    "    total = total + value\n",
    "else:\n",
    "    message = 'the list is empty'\n",
    "    \n",
    "message"
   ]
  },
  {
   "cell_type": "code",
   "execution_count": 25,
   "metadata": {},
   "outputs": [
    {
     "data": {
      "text/plain": [
       "7"
      ]
     },
     "execution_count": 25,
     "metadata": {},
     "output_type": "execute_result"
    }
   ],
   "source": [
    "total"
   ]
  },
  {
   "cell_type": "markdown",
   "metadata": {},
   "source": [
    "O comando **continue**, por outro lado, faz o **while** voltar imediatamente para a avaliação da sua expressão associada, ignorando os passos restantes do seu bloco de código. No código abaixo, se o valor 5 for encontrado, ele será ignorado. Portanto, a variável *total* irá conter o valor 13 (3 + 1 + 3 + 6). A execução do **else** não é afetada."
   ]
  },
  {
   "cell_type": "code",
   "execution_count": 28,
   "metadata": {},
   "outputs": [
    {
     "data": {
      "text/plain": [
       "'the list is empty'"
      ]
     },
     "execution_count": 28,
     "metadata": {},
     "output_type": "execute_result"
    }
   ],
   "source": [
    "l = [3, 1, 3, 5, 6]\n",
    "\n",
    "total = 0\n",
    "message = 'the list is not empty'\n",
    "\n",
    "while l:\n",
    "    value = l.pop(0)\n",
    "    if value == 5:\n",
    "        continue\n",
    "        \n",
    "    total = total + value\n",
    "else:\n",
    "    message = 'the list is empty'\n",
    "    \n",
    "message"
   ]
  },
  {
   "cell_type": "code",
   "execution_count": 29,
   "metadata": {},
   "outputs": [
    {
     "data": {
      "text/plain": [
       "13"
      ]
     },
     "execution_count": 29,
     "metadata": {},
     "output_type": "execute_result"
    }
   ],
   "source": [
    "total"
   ]
  },
  {
   "cell_type": "markdown",
   "metadata": {},
   "source": [
    "### O comando for\n",
    "\n",
    "O comando **for** é usado para iterar sobre os elementos de uma coleção (como uma lista, tupla ou string). Seu significado é \"**para cada** elemento **na** coleção **faça**. O bloco de código associado é executado uma vez para cada elemento retornado pela coleção, na ordem em que os objetos são retornados. Quando os elementos acabam, as iterações terminam e, se houver um bloco **else** associado ao **for**, ele é executado. \n",
    "\n",
    "Assim como no **while**, é possível usar os comandos **break** e **continue**, mas seu uso neste contexto não é considerado boa prática, pois o **for** deve ser usado quando a quantidade de iterações é controlada, i.e. pela quantidade de elementos na lista. \n",
    "\n",
    "O **for** é comumente associado a coleções do tipo **range** que, como vimos na Seção anterior, define uma sequência de valores. Por exemplo, para somar todos os elementos em \\[0, 5), pode-se fazer:"
   ]
  },
  {
   "cell_type": "code",
   "execution_count": 31,
   "metadata": {},
   "outputs": [
    {
     "data": {
      "text/plain": [
       "10"
      ]
     },
     "execution_count": 31,
     "metadata": {},
     "output_type": "execute_result"
    }
   ],
   "source": [
    "total = 0\n",
    "\n",
    "for i in range(5):\n",
    "    total += i\n",
    "\n",
    "total"
   ]
  },
  {
   "cell_type": "markdown",
   "metadata": {},
   "source": [
    "Para somar todos os elementos de uma lista, pode-se fazer (note que a lista continua preenchida):"
   ]
  },
  {
   "cell_type": "code",
   "execution_count": 37,
   "metadata": {},
   "outputs": [
    {
     "data": {
      "text/plain": [
       "18"
      ]
     },
     "execution_count": 37,
     "metadata": {},
     "output_type": "execute_result"
    }
   ],
   "source": [
    "l = [3, 1, 3, 5, 6]\n",
    "total = 0\n",
    "\n",
    "for i in l:\n",
    "    total += i\n",
    "\n",
    "total"
   ]
  },
  {
   "cell_type": "code",
   "execution_count": 33,
   "metadata": {},
   "outputs": [
    {
     "data": {
      "text/plain": [
       "[3, 1, 3, 5, 6]"
      ]
     },
     "execution_count": 33,
     "metadata": {},
     "output_type": "execute_result"
    }
   ],
   "source": [
    "l"
   ]
  },
  {
   "cell_type": "markdown",
   "metadata": {},
   "source": [
    "Cada iteração do código acima atribui o novo elemento retornado pela lista à variável *i*, portanto ao final das iterações, *i* permanecerá com o último valor que lhe foi atribuído."
   ]
  },
  {
   "cell_type": "code",
   "execution_count": 34,
   "metadata": {},
   "outputs": [
    {
     "data": {
      "text/plain": [
       "6"
      ]
     },
     "execution_count": 34,
     "metadata": {},
     "output_type": "execute_result"
    }
   ],
   "source": [
    "i"
   ]
  },
  {
   "cell_type": "markdown",
   "metadata": {},
   "source": [
    "Naturalmente, se o laço não chegar a executar, a variável nunca receberá um valor. Por exemplo:"
   ]
  },
  {
   "cell_type": "code",
   "execution_count": 38,
   "metadata": {},
   "outputs": [
    {
     "ename": "NameError",
     "evalue": "name 'j' is not defined",
     "output_type": "error",
     "traceback": [
      "\u001b[0;31m------------------------------------------------\u001b[0m",
      "\u001b[0;31mNameError\u001b[0m      Traceback (most recent call last)",
      "\u001b[0;32m<ipython-input-38-86a4da602613>\u001b[0m in \u001b[0;36m<module>\u001b[0;34m()\u001b[0m\n\u001b[1;32m      4\u001b[0m     \u001b[0mtotal\u001b[0m \u001b[0;34m+=\u001b[0m \u001b[0;36m0\u001b[0m\u001b[0;34m\u001b[0m\u001b[0m\n\u001b[1;32m      5\u001b[0m \u001b[0;34m\u001b[0m\u001b[0m\n\u001b[0;32m----> 6\u001b[0;31m \u001b[0mj\u001b[0m\u001b[0;34m\u001b[0m\u001b[0m\n\u001b[0m",
      "\u001b[0;31mNameError\u001b[0m: name 'j' is not defined"
     ]
    }
   ],
   "source": [
    "total = 0\n",
    "\n",
    "for j in []:\n",
    "    total += 0\n",
    "\n",
    "j"
   ]
  },
  {
   "cell_type": "markdown",
   "metadata": {},
   "source": [
    "Vimos, na Seção anterior, que coleções podem conter outras coleções. Isso significa que os elementos retornados pela coleção nas iterações do **for** podem ser outras coleções. Isso pode ser útil ao iterar sobre linhas de matrizes. Por exemplo:"
   ]
  },
  {
   "cell_type": "code",
   "execution_count": 39,
   "metadata": {},
   "outputs": [
    {
     "name": "stdout",
     "output_type": "stream",
     "text": [
      "[2, 1]\n",
      "[3, 2]\n"
     ]
    }
   ],
   "source": [
    "matrix = [[2, 1], [3, 2]]\n",
    "\n",
    "for row in matrix:\n",
    "    print(row)"
   ]
  },
  {
   "cell_type": "markdown",
   "metadata": {},
   "source": [
    "É possível realizar atribuições múltiplas para acessar os elementos individuais:"
   ]
  },
  {
   "cell_type": "code",
   "execution_count": 43,
   "metadata": {},
   "outputs": [
    {
     "name": "stdout",
     "output_type": "stream",
     "text": [
      "3\n",
      "5\n"
     ]
    }
   ],
   "source": [
    "matrix = [[2, 1], [3, 2]]\n",
    "\n",
    "for [i, j] in matrix:\n",
    "    print(i + j)"
   ]
  },
  {
   "cell_type": "markdown",
   "metadata": {},
   "source": [
    "Quando iteramos sobre strings, acessamos cada caractere sequencialmente:"
   ]
  },
  {
   "cell_type": "code",
   "execution_count": 40,
   "metadata": {},
   "outputs": [
    {
     "name": "stdout",
     "output_type": "stream",
     "text": [
      "E\n",
      "s\n",
      "t\n",
      "a\n",
      "t\n",
      "í\n",
      "s\n",
      "t\n",
      "i\n",
      "c\n",
      "a\n"
     ]
    }
   ],
   "source": [
    "for c in 'Estatística':\n",
    "    print(c)"
   ]
  },
  {
   "cell_type": "markdown",
   "metadata": {},
   "source": [
    "Quanto iteramos sobre dicionários, acessamos suas chaves:"
   ]
  },
  {
   "cell_type": "code",
   "execution_count": 42,
   "metadata": {},
   "outputs": [
    {
     "name": "stdout",
     "output_type": "stream",
     "text": [
      "{'mean': 0, 'variance': 1}\n",
      "{'alfa': 1, 'beta': 1}\n"
     ]
    }
   ],
   "source": [
    "distributions = {\n",
    "    'Gaussian': {\n",
    "        'mean': 0,\n",
    "        'variance': 1\n",
    "    },\n",
    "    'Beta':{\n",
    "        'alfa': 1,\n",
    "        'beta': 1\n",
    "    }\n",
    "}\n",
    "\n",
    "for key in distributions:\n",
    "    parameters = distributions[key]\n",
    "    print(parameters)"
   ]
  },
  {
   "cell_type": "markdown",
   "metadata": {},
   "source": [
    "### Compreensão de listas\n",
    "\n",
    "Compreensão de lista (*list comprehension*) é um mecanismo que permite construir coleções de forma concisa a partir dos resultados de operações sobre cada membro de outras coleções. Por exemplo, o código abaixo gera uma lista com os quadrados dos valores em **range**(10), usando **for**, como vimos acima:"
   ]
  },
  {
   "cell_type": "code",
   "execution_count": 44,
   "metadata": {},
   "outputs": [
    {
     "data": {
      "text/plain": [
       "[0, 1, 4, 9, 16, 25, 36, 49, 64, 81]"
      ]
     },
     "execution_count": 44,
     "metadata": {},
     "output_type": "execute_result"
    }
   ],
   "source": [
    "squares = []\n",
    "for x in range(10):\n",
    "    squares.append(x**2)\n",
    "    \n",
    "squares"
   ]
  },
  {
   "cell_type": "markdown",
   "metadata": {},
   "source": [
    "A mesma lista pode ser criada usando compreensão de listas como segue:"
   ]
  },
  {
   "cell_type": "code",
   "execution_count": 45,
   "metadata": {},
   "outputs": [
    {
     "data": {
      "text/plain": [
       "[0, 1, 4, 9, 16, 25, 36, 49, 64, 81]"
      ]
     },
     "execution_count": 45,
     "metadata": {},
     "output_type": "execute_result"
    }
   ],
   "source": [
    "squares = [x**2 for x in range(10)]\n",
    "\n",
    "squares"
   ]
  },
  {
   "cell_type": "markdown",
   "metadata": {},
   "source": [
    "A compreensão de listas usa um **for** para atribuir cada elemento do **range** à variável *x*, cujo quadrado é então colocado na nova lista *squares*. Ao final das iterações, a variável *x* mantém o último valor que lhe foi atribuído."
   ]
  },
  {
   "cell_type": "code",
   "execution_count": 47,
   "metadata": {},
   "outputs": [
    {
     "data": {
      "text/plain": [
       "9"
      ]
     },
     "execution_count": 47,
     "metadata": {},
     "output_type": "execute_result"
    }
   ],
   "source": [
    "x"
   ]
  },
  {
   "cell_type": "markdown",
   "metadata": {},
   "source": [
    "Não é necessário que a coleção resultante da compreensão de listas tenho o mesmo número de elementos da coleção original. Por exemplo, o código abaixo só calcula os quadrados dos elementos pares (note o **if** aninhado no **for**):"
   ]
  },
  {
   "cell_type": "code",
   "execution_count": 1,
   "metadata": {},
   "outputs": [
    {
     "data": {
      "text/plain": [
       "[0, 4, 16, 36, 64]"
      ]
     },
     "execution_count": 1,
     "metadata": {},
     "output_type": "execute_result"
    }
   ],
   "source": [
    "squares = [x**2 for x in range(10) if x % 2 == 0]\n",
    "\n",
    "squares"
   ]
  },
  {
   "cell_type": "markdown",
   "metadata": {},
   "source": [
    "Também é possível usar o operador **else** em compreensão de listas. Nesse caso, o **if** e o **else** devem vir antes do **for**, formando uma estrutura conhecida como operador ternário (<valor\\> **if** <expressão\\> **else** <outro_valor\\>):"
   ]
  },
  {
   "cell_type": "code",
   "execution_count": 4,
   "metadata": {},
   "outputs": [
    {
     "data": {
      "text/plain": [
       "[0, 1, 4, 3, 16, 5, 36, 7, 64, 9]"
      ]
     },
     "execution_count": 4,
     "metadata": {},
     "output_type": "execute_result"
    }
   ],
   "source": [
    "squares = [x**2 if x % 2 == 0 else x for x in range(10)]\n",
    "\n",
    "squares"
   ]
  },
  {
   "cell_type": "markdown",
   "metadata": {},
   "source": [
    "Note que o **if** só vem antes do **for** se for parte de um operador ternário, i.e. **if** sem **else** antes do **for** provoca erro de sintaxe:"
   ]
  },
  {
   "cell_type": "code",
   "execution_count": 5,
   "metadata": {},
   "outputs": [
    {
     "ename": "SyntaxError",
     "evalue": "invalid syntax (<ipython-input-5-a09845830dd4>, line 1)",
     "output_type": "error",
     "traceback": [
      "\u001b[0;36m  File \u001b[0;32m\"<ipython-input-5-a09845830dd4>\"\u001b[0;36m, line \u001b[0;32m1\u001b[0m\n\u001b[0;31m    [x**2 if x % 2 == 0 for x in range(10)]\u001b[0m\n\u001b[0m                          ^\u001b[0m\n\u001b[0;31mSyntaxError\u001b[0m\u001b[0;31m:\u001b[0m invalid syntax\n"
     ]
    }
   ],
   "source": [
    "[x**2 if x % 2 == 0 for x in range(10)]"
   ]
  },
  {
   "cell_type": "code",
   "execution_count": null,
   "metadata": {},
   "outputs": [],
   "source": []
  }
 ],
 "metadata": {
  "kernelspec": {
   "display_name": "Python 3",
   "language": "python",
   "name": "python3"
  },
  "language_info": {
   "codemirror_mode": {
    "name": "ipython",
    "version": 3
   },
   "file_extension": ".py",
   "mimetype": "text/x-python",
   "name": "python",
   "nbconvert_exporter": "python",
   "pygments_lexer": "ipython3",
   "version": "3.7.3"
  }
 },
 "nbformat": 4,
 "nbformat_minor": 2
}