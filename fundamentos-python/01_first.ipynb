{
 "cells": [
  {
   "cell_type": "markdown",
   "metadata": {},
   "source": [
    "# Conceitos Fundamentais\n",
    "\n",
    "Este Capítulo tem o objetivo de orientar o(a) leitor(a) sobre a instalação de Python e seus diversos ambientes de trabalho. Python já vem instalado de fábrica na maior parte das distribuições Linux, além de macOS e algumas instalações de Windows (a depender do fabricante). No entanto, essas instalações de Python não necessariamente fornecem a versão mais atualizada da linguagem. Assim, recomenda-se a instalação de Python por meio da distribuição [Anaconda](https://docs.anaconda.com/anaconda/).\n",
    "\n",
    "**Instalando Python com Anaconda**\n",
    "\n",
    "Anaconda é um gerenciador de pacotes de ciência de dados para Python (e R). Gratuito e simples de instalar, ele permite instalar milhares de pacotes curados em versões estáveis. A sua instalação inclui mais de 200 pacotes automaticamente, com os outros podendo ser instalados conforme necessidade de uso. Caso o(a) usuário(a) necessite realizar uma instalação mais leve (cerca de 5 GB são necessários para download e instalação), também é possível instalar a versão mínima, chamada de [Miniconda](https://conda.pydata.org/miniconda.html). Para realizar o download, basta seguir para a [página de instalação](https://docs.anaconda.com/anaconda/). Depois é só seguir os passos do instalador.\n",
    "\n"
   ]
  },
  {
   "cell_type": "markdown",
   "metadata": {},
   "source": [
    "Uma outra vantagem de obter Python via Anaconda é a possibilidade de instalar e gerenciar diversos ambientes de desenvolvimento, com versões diferentes da linguagem e diferentes pacotes instalados, por exemplo uma versão para cada grande projeto desenvolvido, para evitar choques de dependências."
   ]
  },
  {
   "cell_type": "code",
   "execution_count": null,
   "metadata": {},
   "outputs": [],
   "source": []
  }
 ],
 "metadata": {
  "kernelspec": {
   "display_name": "Python 3",
   "language": "python",
   "name": "python3"
  },
  "language_info": {
   "codemirror_mode": {
    "name": "ipython",
    "version": 3
   },
   "file_extension": ".py",
   "mimetype": "text/x-python",
   "name": "python",
   "nbconvert_exporter": "python",
   "pygments_lexer": "ipython3",
   "version": "3.6.5"
  }
 },
 "nbformat": 4,
 "nbformat_minor": 2
}