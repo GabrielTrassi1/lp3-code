{
 "cells": [
  {
   "cell_type": "markdown",
   "metadata": {},
   "source": [
    "# Fundamentos Python\n",
    "---"
   ]
  },
  {
   "attachments": {},
   "cell_type": "markdown",
   "metadata": {},
   "source": [
    "## Variáveis\n",
    "\n",
    "<img src=\"images/cabinet.svg\" alt=\"Armário com variáveis\"/>\n",
    "\n",
    "*Representação da memória como um armário e variáveis como endereços para as gavetas.*\n",
    "\n",
    "### Convenção Python\n",
    "\n",
    "Como na maior parte das linguagens, identificadores (nomes de variáveis, funções, classes, etc) permitem letras minúsculas e maiúsculas, dígitos e traço baixo ou _underline_ (\\_). Identificadores não possuem limite de tamanho e diferenciam entre minúsculas e maiúsculas (_case sensitive_), ou seja _variavel_ é diferente de _Variavel_. Identificadores especiais costumam começar e terminar com duplos traços baixos, e.g. \\_\\_init\\_\\_. Seguem algumas convenções para nomeação de identificadores:\n",
    "\n",
    "| Identificador        | Convenção           | Exemplo  |\n",
    "|------------- |-------------| -----|\n",
    "| Módulos/pacotes      | caracteres minúsculos | _projetopython_ |\n",
    "| Métodos/funções/variáveis | minúsculos\\_separados\\_por\\_underlines      |    _variavel_\\__aleatoria_ |\n",
    "| Globais/constantes      | maiúsculos\\_separados\\_por\\_underlines     |   _CONSTANTE_ |\n",
    "| Classes | Iniciais Maiúsculas      |    NormalDistribution |\n",
    "\n",
    "\n",
    "### Principais tipos em Python:\n",
    "\n",
    "- **str**: texto;\n",
    "- **int**: inteiro; \n",
    "- **float**: ponto flutuante;\n",
    "- **bool**: booleano;\n",
    "    - *É um subtipo de **int** (0 = `False` e 1 = `True`)*\n",
    "- **list**: lista (mutável);\n",
    "- **tuple**: tupla (lista imutável);\n",
    "- **dict**: dicionário;\n",
    "- **set**: conjunto;\n",
    "- **range**: intervalo.\n"
   ]
  },
  {
   "attachments": {},
   "cell_type": "markdown",
   "metadata": {},
   "source": [
    "### Atribuição"
   ]
  },
  {
   "cell_type": "code",
   "execution_count": null,
   "metadata": {},
   "outputs": [],
   "source": [
    "# (Tipagem dinâmica)"
   ]
  },
  {
   "cell_type": "code",
   "execution_count": null,
   "metadata": {},
   "outputs": [],
   "source": [
    "# Output Jupyter\n",
    "\n"
   ]
  },
  {
   "cell_type": "code",
   "execution_count": null,
   "metadata": {},
   "outputs": [],
   "source": [
    "# Output terminal"
   ]
  },
  {
   "cell_type": "code",
   "execution_count": null,
   "metadata": {},
   "outputs": [],
   "source": [
    "# Tipo do valor armazenado\n",
    "\n",
    "# int\n",
    "\n",
    "# str"
   ]
  },
  {
   "cell_type": "code",
   "execution_count": null,
   "metadata": {},
   "outputs": [],
   "source": [
    "# Atribuições com operacoes matematicas (incremento, decremento, etc.)\n"
   ]
  },
  {
   "attachments": {},
   "cell_type": "markdown",
   "metadata": {},
   "source": [
    "## Operadores"
   ]
  },
  {
   "attachments": {},
   "cell_type": "markdown",
   "metadata": {},
   "source": [
    "### Operadores lógicos\n",
    "\n",
    "| x         | y         | **not** x | x **or** y| x **and** y |\n",
    "| --------- |:---------:| ---------:| ---------:| -----------:|\n",
    "| **True**  | **True**  | **False** | **True**  | **True**    |\n",
    "| **True**  | **False** | **False** | **True**  | **False**   |\n",
    "| **False** | **True**  | **True**  | **True**  | **False**   |\n",
    "| **False** | **False** | **True**  | **False** | **False**   |"
   ]
  },
  {
   "cell_type": "code",
   "execution_count": null,
   "metadata": {},
   "outputs": [],
   "source": [
    "x = True\n",
    "y = False"
   ]
  },
  {
   "cell_type": "code",
   "execution_count": null,
   "metadata": {},
   "outputs": [],
   "source": [
    "# E\n",
    "\n",
    "# OU\n",
    "\n",
    "# NAO"
   ]
  },
  {
   "attachments": {},
   "cell_type": "markdown",
   "metadata": {},
   "source": [
    "### Operadores relacionais\n",
    "\n",
    "| Operador         | Significado         |\n",
    "| --------- |---------|\n",
    "| <, >  | menor/maior que |\n",
    "| <=, >=  | menor/maior ou igual a |\n",
    "| ==, != | igual/diferente  |\n",
    "| **is**, **is** **not** | igualdade/diferença de objetos |\n",
    "\n",
    "Comparações podem ser encadeadas livremente, o que permite verificar, por exemplo, se o valor de uma variável *y* cai dentro do intervalo *(0, 3]* da seguinte maneira:"
   ]
  },
  {
   "cell_type": "code",
   "execution_count": 2,
   "metadata": {},
   "outputs": [],
   "source": [
    "y = 2\n",
    "\n",
    "# encadeamento único"
   ]
  },
  {
   "cell_type": "code",
   "execution_count": 3,
   "metadata": {},
   "outputs": [],
   "source": [
    "# composição de relações"
   ]
  },
  {
   "cell_type": "code",
   "execution_count": null,
   "metadata": {},
   "outputs": [],
   "source": []
  },
  {
   "attachments": {},
   "cell_type": "markdown",
   "metadata": {},
   "source": [
    "### Operadores aritméticos\n",
    "\n",
    "Tipos númericos `diferentes` podem ser usados em uma mesma operação aritmética, com a resposta `pertencendo ao tipo mais geral`. \n",
    "\n",
    "Lista de operadores aritméticos:\n",
    "\n",
    "| Operador  |   Exemplo  | Resultado |\n",
    "|-----------|------------|-----------|\n",
    "|   x + y   |    1 + 2   |     3     |\n",
    "|   x + y   |  True + 2  |     3     |\n",
    "|   x - y   |   2 - 1.2  |    0.8    |\n",
    "|   x * y   |   2 * 1e-1 |    0.2    |\n",
    "|   x / y   |    1 / 2   |    0.5    |\n",
    "|  x // y   |  10 // 6   |     1     |\n",
    "|  x // y   |   7 // 2   |     3     |\n",
    "|   x % y   |    7 % 2   |     1     |\n",
    "|   x % y   |    6 % 2   |     0     |\n",
    "| x \\*\\* y  |  6 \\*\\*2   |    36     |\n",
    "|     -x    |     -6     |     -6    |"
   ]
  },
  {
   "cell_type": "code",
   "execution_count": 4,
   "metadata": {},
   "outputs": [],
   "source": [
    "# Operação entre tipos distintos"
   ]
  },
  {
   "attachments": {},
   "cell_type": "markdown",
   "metadata": {},
   "source": [
    "### Prioridade de operadores\n",
    "\n",
    "Assim como na matemática, operadores seguem uma `ordem de precedência`. \n",
    "\n",
    "Tabela com os operadores em ordem crescente de precedência:\n",
    "\n",
    "| Operador  |   Descrição  |\n",
    "|-----------|------------|\n",
    "|**lambda** |    Expressões lambda   |\n",
    "| **if - else**|  Expressões condicionais  |\n",
    "| **or**   |   OU lógico  |\n",
    "| **and**   |  E lógico|\n",
    "| **not**   |  NÃO lógico |\n",
    "|**in**, **not in**, **is**, **is not**, <, <=, >, >=, !=, ==  |  Comparações/pertencimento/identidade |\n",
    "| +, -  |  Adição/subtração |\n",
    "| \\*, @, /, //, % |  Multiplicações/divisões  |\n",
    "| -x |  Negativo   |\n",
    "| \\*\\*  | Exponenciação  |\n",
    "|  x\\[indice\\]  | Indexação de sequências  |\n",
    "| (expressao) | Expressões entre parênteses  |\n",
    "\n",
    "\n",
    "**IMPORTANTE:** É possível realizar operações na ordem desejada com o uso de parênteses. "
   ]
  },
  {
   "attachments": {},
   "cell_type": "markdown",
   "metadata": {},
   "source": [
    "## Coleções\n",
    "\n",
    "Estruturas de dados que permitem armazenar múltiplos valores, que podem ser do mesmo tipo ou não."
   ]
  },
  {
   "attachments": {},
   "cell_type": "markdown",
   "metadata": {},
   "source": [
    "### Listas\n",
    "\n",
    "Coleções mutáveis normalmente (mas não obrigatoriamente) usadas para armazenar itens homogêneos"
   ]
  },
  {
   "cell_type": "code",
   "execution_count": 7,
   "metadata": {},
   "outputs": [
    {
     "data": {
      "text/plain": [
       "[0, 1, 2]"
      ]
     },
     "execution_count": 7,
     "metadata": {},
     "output_type": "execute_result"
    }
   ],
   "source": [
    "# Lista vazia (dois métodos)\n",
    "\n",
    "# Lista com valores\n"
   ]
  },
  {
   "cell_type": "code",
   "execution_count": 8,
   "metadata": {},
   "outputs": [],
   "source": [
    "# Verificar a existência de um elemento na lista"
   ]
  },
  {
   "cell_type": "code",
   "execution_count": 9,
   "metadata": {},
   "outputs": [],
   "source": [
    "# ... e a não existência"
   ]
  },
  {
   "cell_type": "code",
   "execution_count": 10,
   "metadata": {},
   "outputs": [],
   "source": [
    "# Concatenação (junção) de listas"
   ]
  },
  {
   "cell_type": "code",
   "execution_count": 11,
   "metadata": {},
   "outputs": [],
   "source": [
    "# Replicação (multiplicação)"
   ]
  },
  {
   "cell_type": "code",
   "execution_count": 12,
   "metadata": {},
   "outputs": [],
   "source": [
    "# Obter o tamanho da lista"
   ]
  },
  {
   "attachments": {},
   "cell_type": "markdown",
   "metadata": {},
   "source": [
    "#### Acessando elementos da lista..."
   ]
  },
  {
   "cell_type": "code",
   "execution_count": 13,
   "metadata": {},
   "outputs": [],
   "source": [
    "\n",
    "# Indexação simples:\n",
    "\n"
   ]
  },
  {
   "cell_type": "code",
   "execution_count": null,
   "metadata": {},
   "outputs": [],
   "source": [
    "# Fatiamento simples - intervalo de índices = [X:Y)"
   ]
  },
  {
   "cell_type": "code",
   "execution_count": 16,
   "metadata": {},
   "outputs": [],
   "source": [
    "# Fatiamento cusomizado - intervalo + incremento = [X:Y):P"
   ]
  },
  {
   "attachments": {},
   "cell_type": "markdown",
   "metadata": {},
   "source": [
    "**IMPORTANTE:** Nenhum dos três valores para definição da fatia é obrigatório. \n",
    "- Se o `início` não for fornecido, a fatia irá iniciar do índice *0*. \n",
    "- Se o `fim` não for definido, a fatia irá até a última posição da lista. \n",
    "- Se o `incremento` não for informado, ele receberá o valor *1*."
   ]
  },
  {
   "cell_type": "code",
   "execution_count": 14,
   "metadata": {},
   "outputs": [],
   "source": [
    "# Exemplo início"
   ]
  },
  {
   "cell_type": "code",
   "execution_count": 15,
   "metadata": {},
   "outputs": [],
   "source": [
    "# Exemplo fim"
   ]
  },
  {
   "cell_type": "code",
   "execution_count": 18,
   "metadata": {},
   "outputs": [],
   "source": [
    "# Índices negativos = len(L) - 1"
   ]
  },
  {
   "attachments": {},
   "cell_type": "markdown",
   "metadata": {},
   "source": [
    "#### Edição de listas"
   ]
  },
  {
   "cell_type": "code",
   "execution_count": null,
   "metadata": {},
   "outputs": [],
   "source": [
    "# Atualizar um elemento da lista"
   ]
  },
  {
   "cell_type": "code",
   "execution_count": null,
   "metadata": {},
   "outputs": [],
   "source": [
    "# deletar elementos"
   ]
  },
  {
   "cell_type": "code",
   "execution_count": null,
   "metadata": {},
   "outputs": [],
   "source": [
    "# Incluir elementos (final)"
   ]
  },
  {
   "cell_type": "code",
   "execution_count": null,
   "metadata": {},
   "outputs": [],
   "source": [
    "# Inserir elemento  (posição específica)"
   ]
  },
  {
   "cell_type": "code",
   "execution_count": 19,
   "metadata": {},
   "outputs": [],
   "source": [
    "# Extender lista"
   ]
  },
  {
   "attachments": {},
   "cell_type": "markdown",
   "metadata": {},
   "source": [
    "### Tupla\n",
    "\n",
    "Coleções **imutáveis**, tipicamente usadas para armazenar dados heterogêneos. Essas estruturas são bastante usadas para permitir o retorno de múltiplos valores em funções."
   ]
  },
  {
   "cell_type": "code",
   "execution_count": 20,
   "metadata": {},
   "outputs": [],
   "source": [
    "# Tupla vazia"
   ]
  },
  {
   "cell_type": "code",
   "execution_count": 21,
   "metadata": {},
   "outputs": [],
   "source": [
    "# Tupla especificada"
   ]
  },
  {
   "cell_type": "code",
   "execution_count": null,
   "metadata": {},
   "outputs": [],
   "source": [
    "# Alterando elemento da tupla"
   ]
  },
  {
   "attachments": {},
   "cell_type": "markdown",
   "metadata": {},
   "source": [
    "### Intervalos\n",
    "\n",
    "Coleções do tipo **range** são imutáveis e contêm sequências de números que são comumente usados em laços com quantidades definidas de repetições (**for**)."
   ]
  },
  {
   "cell_type": "code",
   "execution_count": null,
   "metadata": {},
   "outputs": [],
   "source": [
    "# Criando um intervalo"
   ]
  },
  {
   "attachments": {},
   "cell_type": "markdown",
   "metadata": {},
   "source": [
    "**IMPORTANTE:** coleções **range** sempre ocupam a mesma quantidade de memória, independente do tamanho do intervalo. Isso é possível porque ele apenas armazena os valores de início, fim e incremento. Todos os valores que pertencem ao intervalo são calculados apenas quando necessário."
   ]
  },
  {
   "cell_type": "code",
   "execution_count": 22,
   "metadata": {},
   "outputs": [],
   "source": [
    "# Visualizando lista de elementos de um intervalo"
   ]
  },
  {
   "attachments": {},
   "cell_type": "markdown",
   "metadata": {},
   "source": [
    "### Textos"
   ]
  },
  {
   "cell_type": "code",
   "execution_count": 24,
   "metadata": {},
   "outputs": [],
   "source": [
    "# Aspas simples"
   ]
  },
  {
   "cell_type": "code",
   "execution_count": 25,
   "metadata": {},
   "outputs": [],
   "source": [
    "# Aspas dupla"
   ]
  },
  {
   "cell_type": "code",
   "execution_count": 26,
   "metadata": {},
   "outputs": [],
   "source": [
    "# Multilinhas"
   ]
  },
  {
   "cell_type": "code",
   "execution_count": 27,
   "metadata": {},
   "outputs": [],
   "source": [
    "# Acessando caracteres..."
   ]
  },
  {
   "cell_type": "code",
   "execution_count": 28,
   "metadata": {},
   "outputs": [],
   "source": [
    "# Verificando presenças de caracteres"
   ]
  },
  {
   "cell_type": "code",
   "execution_count": 29,
   "metadata": {},
   "outputs": [],
   "source": [
    "# Concatenação de strings"
   ]
  },
  {
   "cell_type": "code",
   "execution_count": 30,
   "metadata": {},
   "outputs": [],
   "source": [
    "# Formatação de strings...\n",
    "# .format + coringa\n",
    "\n"
   ]
  },
  {
   "cell_type": "code",
   "execution_count": 31,
   "metadata": {},
   "outputs": [],
   "source": [
    "# Outras operações...\n",
    "\n",
    "# Explosão"
   ]
  },
  {
   "cell_type": "code",
   "execution_count": 32,
   "metadata": {},
   "outputs": [],
   "source": [
    "# Replace"
   ]
  },
  {
   "cell_type": "code",
   "execution_count": 33,
   "metadata": {},
   "outputs": [],
   "source": [
    "# Localizar substring (primeira ocorrência)"
   ]
  },
  {
   "cell_type": "code",
   "execution_count": null,
   "metadata": {},
   "outputs": [],
   "source": [
    "# .lower e upper"
   ]
  },
  {
   "attachments": {},
   "cell_type": "markdown",
   "metadata": {},
   "source": [
    "### Conjuntos\n",
    "\n",
    "Coleções do tipo conjunto (**set**) são exatamente o que se espera: uma coleção não-ordenada de elementos únicos que suporta operações matemáticas em conjuntos, como união, interseção, diferença, etc.  "
   ]
  },
  {
   "cell_type": "code",
   "execution_count": null,
   "metadata": {},
   "outputs": [],
   "source": [
    "# Utilizando set\n",
    "\n",
    "# Utilizando {}"
   ]
  },
  {
   "cell_type": "code",
   "execution_count": null,
   "metadata": {},
   "outputs": [],
   "source": [
    "# Exemplo com string"
   ]
  },
  {
   "cell_type": "code",
   "execution_count": null,
   "metadata": {},
   "outputs": [],
   "source": [
    "# Elemento existe em um conjunto (in)"
   ]
  },
  {
   "cell_type": "code",
   "execution_count": 34,
   "metadata": {},
   "outputs": [],
   "source": [
    "# Modificando conjuntos...\n",
    "# add - adicionar elemento"
   ]
  },
  {
   "cell_type": "code",
   "execution_count": null,
   "metadata": {},
   "outputs": [],
   "source": [
    "# remove - remover elemento (caso exista)"
   ]
  },
  {
   "cell_type": "code",
   "execution_count": 35,
   "metadata": {},
   "outputs": [],
   "source": [
    "# discard - remover elemento (independente se exista ou n)"
   ]
  },
  {
   "attachments": {},
   "cell_type": "markdown",
   "metadata": {},
   "source": [
    "### Dicionários\n",
    "\n",
    "Coleções `mutáveis` que permitem realizar mapeamento de valores usando chaves únicas, que podem ser de vários tipos, mas são comumente *strings* ou números."
   ]
  },
  {
   "cell_type": "code",
   "execution_count": null,
   "metadata": {},
   "outputs": [],
   "source": [
    "# Dicionario vazio - {} ou dict"
   ]
  },
  {
   "cell_type": "code",
   "execution_count": 36,
   "metadata": {},
   "outputs": [],
   "source": [
    "# Com valores"
   ]
  },
  {
   "cell_type": "code",
   "execution_count": null,
   "metadata": {},
   "outputs": [],
   "source": [
    "# Acessando valores (chave) - caso exista"
   ]
  },
  {
   "cell_type": "code",
   "execution_count": null,
   "metadata": {},
   "outputs": [],
   "source": [
    "# Atualizando valores"
   ]
  },
  {
   "cell_type": "code",
   "execution_count": 37,
   "metadata": {},
   "outputs": [],
   "source": [
    "# Acessando valores (get) - independente se exista ou n"
   ]
  },
  {
   "cell_type": "code",
   "execution_count": null,
   "metadata": {},
   "outputs": [],
   "source": [
    "# Removendo elemento/chave"
   ]
  },
  {
   "cell_type": "code",
   "execution_count": null,
   "metadata": {},
   "outputs": [],
   "source": [
    "# Acessando apenas as chaves"
   ]
  },
  {
   "cell_type": "code",
   "execution_count": null,
   "metadata": {},
   "outputs": [],
   "source": [
    "# Acessando apenas os valores"
   ]
  },
  {
   "attachments": {},
   "cell_type": "markdown",
   "metadata": {},
   "source": [
    "### Coleção de coleções"
   ]
  },
  {
   "cell_type": "code",
   "execution_count": null,
   "metadata": {},
   "outputs": [],
   "source": [
    "# Lista de listas"
   ]
  },
  {
   "cell_type": "code",
   "execution_count": 38,
   "metadata": {},
   "outputs": [],
   "source": [
    "# Dicionário de dicionários"
   ]
  },
  {
   "attachments": {},
   "cell_type": "markdown",
   "metadata": {},
   "source": [
    "## Condicionais\n",
    "\n",
    "<img src=\"images/flow-if.svg\" alt=\"Fluxograma com estrutura condicional\"/>\n",
    "\n",
    "fluxograma com estrutura condicional."
   ]
  },
  {
   "cell_type": "code",
   "execution_count": null,
   "metadata": {},
   "outputs": [],
   "source": [
    "# COndicional simples\n",
    "knows_python = True\n",
    "\n",
    "if knows_python == True:\n",
    "    situation = 'hired'\n",
    "else:\n",
    "    situation = 'unemployed'\n",
    "\n",
    "situation"
   ]
  },
  {
   "cell_type": "code",
   "execution_count": null,
   "metadata": {},
   "outputs": [],
   "source": [
    "# COndicional composta\n",
    "languages = ['Python', 'Java']\n",
    "\n",
    "if not languages:\n",
    "    situation = 'unemployed'\n",
    "elif 'Python' in languages and 'Java' in languages:\n",
    "    situation = 'data scientist'\n",
    "else:\n",
    "    situation = 'developer'\n",
    "\n",
    "situation"
   ]
  },
  {
   "cell_type": "code",
   "execution_count": null,
   "metadata": {},
   "outputs": [],
   "source": []
  },
  {
   "attachments": {},
   "cell_type": "markdown",
   "metadata": {},
   "source": [
    "## Laços"
   ]
  },
  {
   "attachments": {},
   "cell_type": "markdown",
   "metadata": {},
   "source": [
    "### While"
   ]
  },
  {
   "cell_type": "code",
   "execution_count": null,
   "metadata": {},
   "outputs": [],
   "source": [
    "l = [3, 1, 3, 5, 6]\n",
    "\n",
    "total = 0\n",
    "\n",
    "while l:\n",
    "    value = l.pop(0)\n",
    "    total = total + value\n",
    "\n",
    "total"
   ]
  },
  {
   "cell_type": "code",
   "execution_count": null,
   "metadata": {},
   "outputs": [],
   "source": [
    "l = [3, 1, 3, 5, 6]\n",
    "\n",
    "total = 0\n",
    "message = 'the list is not empty'\n",
    "\n",
    "while l:\n",
    "    value = l.pop(0)\n",
    "    total = total + value\n",
    "else:\n",
    "    message = 'the list is empty'\n",
    "    \n",
    "message"
   ]
  },
  {
   "cell_type": "code",
   "execution_count": null,
   "metadata": {},
   "outputs": [],
   "source": [
    "l = [3, 1, 3, 5, 6]\n",
    "\n",
    "total = 0\n",
    "message = 'the list is not empty'\n",
    "\n",
    "while l:\n",
    "    value = l.pop(0)\n",
    "    if value == 5:\n",
    "        continue\n",
    "        \n",
    "    total = total + value\n",
    "else:\n",
    "    message = 'the list is empty'\n",
    "    \n",
    "message"
   ]
  },
  {
   "attachments": {},
   "cell_type": "markdown",
   "metadata": {},
   "source": [
    "### for"
   ]
  },
  {
   "cell_type": "code",
   "execution_count": null,
   "metadata": {},
   "outputs": [],
   "source": [
    "total = 0\n",
    "\n",
    "for i in range(5):\n",
    "    total += i\n",
    "\n",
    "total"
   ]
  },
  {
   "cell_type": "code",
   "execution_count": null,
   "metadata": {},
   "outputs": [],
   "source": [
    "# Com lista"
   ]
  },
  {
   "cell_type": "code",
   "execution_count": null,
   "metadata": {},
   "outputs": [],
   "source": [
    "# Compresão de lista\n",
    "squares = [x**2 for x in range(10)]\n",
    "\n",
    "squares"
   ]
  },
  {
   "cell_type": "code",
   "execution_count": 39,
   "metadata": {},
   "outputs": [
    {
     "data": {
      "text/plain": [
       "[0, 4, 16, 36, 64]"
      ]
     },
     "execution_count": 39,
     "metadata": {},
     "output_type": "execute_result"
    }
   ],
   "source": [
    "# Compresão de lista - com condições\n",
    "squares = [x**2 for x in range(10) if x % 2 == 0]\n",
    "\n",
    "squares"
   ]
  },
  {
   "attachments": {},
   "cell_type": "markdown",
   "metadata": {},
   "source": [
    "## Funções\n",
    "\n",
    "Funções definem blocos de código que podem ser reutilizados sempre que necessário. Assim como as funções matemáticas, as funções de Python recebem valores de entrada (chamados de parâmetros ou argumentos) e retornam valores de saída, no entanto não é obrigatório que elas recebam entradas nem que retornem saídas. Como um exemplo simples, vamos definir a função $f(x) = x^2$ em Python: "
   ]
  },
  {
   "cell_type": "code",
   "execution_count": 40,
   "metadata": {},
   "outputs": [
    {
     "data": {
      "text/plain": [
       "9"
      ]
     },
     "execution_count": 40,
     "metadata": {},
     "output_type": "execute_result"
    }
   ],
   "source": [
    "def f(x):\n",
    "    return x ** 2\n",
    "\n",
    "f(3)"
   ]
  },
  {
   "cell_type": "code",
   "execution_count": 41,
   "metadata": {},
   "outputs": [],
   "source": [
    "# Tipo da função"
   ]
  },
  {
   "cell_type": "code",
   "execution_count": 42,
   "metadata": {},
   "outputs": [],
   "source": [
    "# Atribuição da função em outra varável"
   ]
  },
  {
   "cell_type": "code",
   "execution_count": null,
   "metadata": {},
   "outputs": [],
   "source": [
    "def power(x, y):\n",
    "    return x ** y\n",
    "\n",
    "# Chamada da função\n"
   ]
  },
  {
   "cell_type": "code",
   "execution_count": null,
   "metadata": {},
   "outputs": [],
   "source": [
    "# Multiplos retornos\n",
    "def div(dividend, divisor):\n",
    "    return dividend // divisor, dividend % divisor\n",
    "\n",
    "# Chamada"
   ]
  },
  {
   "cell_type": "code",
   "execution_count": null,
   "metadata": {},
   "outputs": [],
   "source": [
    "# Declarando valores padroes aos argumentos..."
   ]
  },
  {
   "attachments": {},
   "cell_type": "markdown",
   "metadata": {},
   "source": [
    "#### Funções básicas\n",
    "\n",
    "Python vem de fábrica com diversas [funções](https://docs.python.org/3.7/library/functions.html) que podem ser bastante úteis. Além das funções que já vimos e chamamos de operadores, como **list**(), **set**(), **tuple**(), **dict**(), **type**(), entre outras, temos também algumas operações, como:\n",
    "\n",
    "* **sum**(): Soma os elementos de uma coleção;\n",
    "* **min**(), **max**(): Determina o menor/maior valor em uma coleção;\n",
    "* **pow**(x, y): Eleva *x* à *y*-ésima potência;\n",
    "* **round**(): Arredonda o valor passado como parâmetro;\n",
    "* **all**: Retorna **True** se todos os elementos da coleção passada como parâmetro avaliarem como **True**.\n",
    "* **any**: Retorna **True** se algum dos elementos da coleção passada como parâmetro avaliar como **True**, caso contrário, retorna **False**.\n",
    "\n",
    "Outras funções comumente úteis incluem as funções de entrada e saída e as funções **zip** e **enumerate**.\n",
    "\n",
    "### Funções de entrada e saída\n",
    "\n",
    "As principais funções de entrada e saída de Python são **input**, **print** e **open**. A função **input** pede que o usuário forneça um valor. Por exemplo, o código abaixo pede que o usuário digite seu nome e imprime uma saudação:"
   ]
  },
  {
   "cell_type": "code",
   "execution_count": null,
   "metadata": {},
   "outputs": [],
   "source": [
    "# Interface com usuario\n",
    "name = input('Digite seu nome: ')\n",
    "\n",
    "# Exibindo valor"
   ]
  },
  {
   "cell_type": "code",
   "execution_count": null,
   "metadata": {},
   "outputs": [],
   "source": [
    "# Cast\n",
    "age = int(input('Digite sua idade: '))\n",
    "\n",
    "print('Você se aposentará aos {} anos'.format(age + 87))"
   ]
  },
  {
   "attachments": {},
   "cell_type": "markdown",
   "metadata": {},
   "source": [
    "Frequentemente é necessário desenvolver um programa mais complexo, usando um editor de texto para preparar um arquivo e executando o arquivo usando o interpretador de Python. Esse arquivo é conhecido como *script*. À medida que o programa cresce, torna-se interessante dividí-lo em diversos arquivos, para facilitar a manutenção e a compreensão do código. Pode também ser necessário usar uma ou mais funções em diversos programas, sendo indesejável copiar o código da(s) função(ões) para cada programa.\n",
    "\n",
    "Python atende esses requisitos por meio de *scripts* chamados módulos. Definições criadas em um módulo podem ser *importadas* em outros módulos ou no módulo principal (*main*), que é o módulo que contém as variáveis e funções definidas no *script* executado.\n",
    "\n",
    "Um arquivo de módulo deve ter a extensão *.py*. Vejamos um exemplo retirado da [documentação de Python](https://docs.python.org/3/tutorial/modules.html). O código abaixo foi salvo em um arquivo chamado \"fibo.py\"."
   ]
  },
  {
   "cell_type": "code",
   "execution_count": null,
   "metadata": {},
   "outputs": [],
   "source": [
    "# Para importar o módulo correspondente, fazemos..."
   ]
  },
  {
   "cell_type": "code",
   "execution_count": null,
   "metadata": {},
   "outputs": [],
   "source": []
  },
  {
   "attachments": {},
   "cell_type": "markdown",
   "metadata": {},
   "source": [
    "# Fim."
   ]
  },
  {
   "attachments": {},
   "cell_type": "markdown",
   "metadata": {},
   "source": [
    "Referências:\n",
    "\n",
    "- Livro [Python para Estatísticos](https://tmfilho.github.io/pyestbook/intro.html)\n",
    "- Curso [Introdução ao Python, OpenSanca](https://curso.grupysanca.com.br/pt/latest/introducao.html)"
   ]
  }
 ],
 "metadata": {
  "kernelspec": {
   "display_name": "Python 3",
   "language": "python",
   "name": "python3"
  },
  "language_info": {
   "codemirror_mode": {
    "name": "ipython",
    "version": 3
   },
   "file_extension": ".py",
   "mimetype": "text/x-python",
   "name": "python",
   "nbconvert_exporter": "python",
   "pygments_lexer": "ipython3",
   "version": "3.11.1"
  },
  "orig_nbformat": 4,
  "vscode": {
   "interpreter": {
    "hash": "5238573367df39f7286bb46f9ff5f08f63a01a80960060ce41e3c79b190280fa"
   }
  }
 },
 "nbformat": 4,
 "nbformat_minor": 2
}
