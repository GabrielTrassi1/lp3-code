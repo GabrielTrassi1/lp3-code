{
 "cells": [
  {
   "cell_type": "markdown",
   "metadata": {},
   "source": [
    "# Operadores\n"
   ]
  },
  {
   "cell_type": "markdown",
   "metadata": {},
   "source": [
    "## Operadores lógicos\n",
    "\n",
    "Python oferece três operadores lógicos (*booleanos*): **or** (ou), **and** (e) e **not** (não). Os primeiros dois operadores (**or** e **and**) recebem dois operandos e retornam um valor lógico **True** (Verdadeiro) ou **False** (Falso). O terceiro operador (**not**) recebe apenas um operando e retorna o valor lógico oposto. A tabela verdade abaixo apresenta os valores retornados pelos operadores para diferentes valores dos operandos.\n",
    "\n",
    "| x         | y         | **not** x | x **or** y| x **and** y |\n",
    "| --------- |:---------:| ---------:| ---------:| -----------:|\n",
    "| **True**  | **True**  | **False** | **True**  | **True**    |\n",
    "| **True**  | **False** | **False** | **True**  | **False**   |\n",
    "| **False** | **True**  | **True**  | **True**  | **False**   |\n",
    "| **False** | **False** | **True**  | **False** | **False**   |\n",
    "\n",
    "O operador **or** só retorna **False** se os dois operandos forem falsos, portanto por uma questão de eficiência, Python apenas avalia o segundo operando, se o primeiro for **False**. Por outro lado, o operador **and** só retorna **True** se os dois operandos forem verdadeiros, então Python só avalia o segundo operando se o primeiro for **True**. Por isso, esses operadores são chamados de operadores de curto-circuito e essa característica pode ser usada para otimizar código, colocando operandos menos custosos no lado esquerdo desses operadores.\n"
   ]
  },
  {
   "cell_type": "markdown",
   "metadata": {},
   "source": [
    "## Operadores relacionais\n",
    "\n",
    "O(a) usuário(a) de Python tem oito operadores de comparação (operadores relacionais) a sua disposição, descritos na Tabela abaixo. Os dois últimos operadores são casos especiais de igualdade e diferença para objetos que investigaremos mais à frente no livro. Também veremos mais à frente que objetos de diferentes tipos (exceto números) nunca serão iguais\n",
    "\n",
    "| Operador         | Significado         |\n",
    "| --------- |---------|\n",
    "| <, >  | menor/maior que |\n",
    "| <=, >=  | menor/maior ou igual a |\n",
    "| ==, != | igual/diferente  |\n",
    "| **is**, **is** **not** | igualdade/diferença de objetos |\n",
    "\n",
    "Comparações podem ser encadeadas livremente, o que permite verificar, por exemplo, se o valor de uma variável *y* cai dentro do intervalo *(0, 3]* da seguinte maneira:"
   ]
  },
  {
   "cell_type": "code",
   "execution_count": 4,
   "metadata": {},
   "outputs": [
    {
     "data": {
      "text/plain": [
       "True"
      ]
     },
     "execution_count": 4,
     "metadata": {},
     "output_type": "execute_result"
    }
   ],
   "source": [
    "y = 2\n",
    "\n",
    "0 < y <= 3"
   ]
  },
  {
   "cell_type": "markdown",
   "metadata": {},
   "source": [
    "O código acima é equivalente ao código abaixo, que corresponde a uma forma mais comum em outras linguagens de programação. No entanto, no formato encadeado acima, a variável *y* é avaliada apenas uma vez, o que produz um código mais eficiente. Além disso, como essas comparações incluem um **and**, a segunda parte (*y <= 3*) só será avaliada se a primeira (*0 < y*) for **True**."
   ]
  },
  {
   "cell_type": "code",
   "execution_count": 5,
   "metadata": {},
   "outputs": [
    {
     "data": {
      "text/plain": [
       "True"
      ]
     },
     "execution_count": 5,
     "metadata": {},
     "output_type": "execute_result"
    }
   ],
   "source": [
    "0 < y and y <= 3"
   ]
  },
  {
   "cell_type": "markdown",
   "metadata": {},
   "source": [
    "## Operadores aritméticos\n",
    "\n",
    "Python suporta diferentes tipos de números, mas os principais são os inteiros (**int**) e pontos flutuantes (**float**). Além disso, valores lógicos (**bool**) são um subtipo dos inteiros, com **True** equivalendo a *1* e **False** a *0*. Tipos númericos diferentes podem ser usados em uma mesma operação aritmética, com a resposta pertencendo ao tipo mais geral. Os operadores aritméticos incluem:\n",
    "\n",
    "| Operador  |   Exemplo  | Resultado |\n",
    "|-----------|------------|-----------|\n",
    "|   x + y   |    1 + 2   |     3     |\n",
    "|   x + y   |  True + 2  |     3     |\n",
    "|   x - y   |   2 - 1.2  |    0.8    |\n",
    "|   x * y   |   2 * 1e-1 |    0.2    |\n",
    "|   x / y   |    1 / 2   |    0.5    |\n",
    "|  x // y   |  10 // 6   |     1     |\n",
    "|  x // y   |   7 // 2   |     3     |\n",
    "|   x % y   |    7 % 2   |     1     |\n",
    "|   x % y   |    6 % 2   |     0     |\n",
    "| x \\*\\* y  |  6 \\*\\*2   |    36     |\n",
    "|     -x    |     -6     |     -6    |"
   ]
  },
  {
   "cell_type": "markdown",
   "metadata": {},
   "source": [
    "## Prioridade de operadores\n",
    "\n",
    "Assim como na matemática, operadores seguem uma ordem de precedência. Naturalmente, é possível realizar operações na ordem desejada com o uso de parênteses. A tabela abaixo apresenta os operadores em ordem crescente de precedência, com operadores na mesma linha recebendo a mesma prioridade. Alguns desses operadores ainda serão vistos neste material.\n",
    "\n",
    "| Operador  |   Descrição  |\n",
    "|-----------|------------|\n",
    "|**lambda** |    Expressões lambda   |\n",
    "| **if - else**|  Expressões condicionais  |\n",
    "| **or**   |   OU lógico  |\n",
    "| **and**   |  E lógico|\n",
    "| **not**   |  NÃO lógico |\n",
    "|**in**, **not in**, **is**, **is not**, <, <=, >, >=, !=, ==  |  Comparações/pertencimento/identidade |\n",
    "| +, -  |  Adição/subtração |\n",
    "| \\*, @, /, //, % |  Multiplicações/divisões  |\n",
    "| -x |  Negativo   |\n",
    "| \\*\\*  | Exponenciação  |\n",
    "|  x\\[indice\\]  | Indexação de sequências  |\n",
    "| (expressao) | Expressões entre parênteses  |"
   ]
  },
  {
   "cell_type": "code",
   "execution_count": null,
   "metadata": {},
   "outputs": [],
   "source": []
  }
 ],
 "metadata": {
  "kernelspec": {
   "display_name": "Python 3",
   "language": "python",
   "name": "python3"
  },
  "language_info": {
   "codemirror_mode": {
    "name": "ipython",
    "version": 3
   },
   "file_extension": ".py",
   "mimetype": "text/x-python",
   "name": "python",
   "nbconvert_exporter": "python",
   "pygments_lexer": "ipython3",
   "version": "3.6.5"
  }
 },
 "nbformat": 4,
 "nbformat_minor": 2
}
