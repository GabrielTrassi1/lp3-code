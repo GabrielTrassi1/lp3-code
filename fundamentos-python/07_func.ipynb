{
 "cells": [
  {
   "cell_type": "markdown",
   "metadata": {},
   "source": [
    "# Funções\n",
    "\n",
    "Funções definem blocos de código que podem ser reutilizados sempre que necessário. Assim como as funções matemáticas, as funções de Python recebem valores de entrada (chamados de parâmetros ou argumentos) e retornam valores de saída, no entanto não é obrigatório que elas recebam entradas nem que retornem saídas. Como um exemplo simples, vamos definir a função $f(x) = x^2$ em Python: "
   ]
  },
  {
   "cell_type": "code",
   "execution_count": 9,
   "metadata": {},
   "outputs": [
    {
     "data": {
      "text/plain": [
       "9"
      ]
     },
     "execution_count": 9,
     "metadata": {},
     "output_type": "execute_result"
    }
   ],
   "source": [
    "def f(x):\n",
    "    return x ** 2\n",
    "\n",
    "f(3)"
   ]
  },
  {
   "cell_type": "markdown",
   "metadata": {},
   "source": [
    "A definição de uma função começa com a palavra **def**, seguida do identificador da função (nesse caso, *f*) e da lista de parâmetros entre parênteses, terminando com o marcador de início de bloco (:). Note que, como a função define um bloco, as linhas seguintes devem ser indentadas. A definição de uma função cria uma variável com o nome da função, cujo valor é do tipo função. Portanto, é possível atribuir a função a uma outra variável. Isso pode ser usado como mecanismo de renomeação."
   ]
  },
  {
   "cell_type": "code",
   "execution_count": 6,
   "metadata": {},
   "outputs": [
    {
     "data": {
      "text/plain": [
       "function"
      ]
     },
     "execution_count": 6,
     "metadata": {},
     "output_type": "execute_result"
    }
   ],
   "source": [
    "type(f)"
   ]
  },
  {
   "cell_type": "code",
   "execution_count": 8,
   "metadata": {},
   "outputs": [
    {
     "data": {
      "text/plain": [
       "16"
      ]
     },
     "execution_count": 8,
     "metadata": {},
     "output_type": "execute_result"
    }
   ],
   "source": [
    "square = f\n",
    "\n",
    "square(4)"
   ]
  },
  {
   "cell_type": "markdown",
   "metadata": {},
   "source": [
    "O \"uso\" da função após a sua definição é conhecido como \"chamada\" e requer valores para todos os parâmetros. A passagem de valores para os parâmetros pode ser feita de forma posicional (na ordem de declaração na lista de parâmetros) ou pelos seus nomes, sem necessidade de obedecer a uma ordem. Por exemplo:"
   ]
  },
  {
   "cell_type": "code",
   "execution_count": 13,
   "metadata": {},
   "outputs": [
    {
     "data": {
      "text/plain": [
       "(9, 9)"
      ]
     },
     "execution_count": 13,
     "metadata": {},
     "output_type": "execute_result"
    }
   ],
   "source": [
    "def power(x, y):\n",
    "    return x ** y\n",
    "\n",
    "power(3, 2), power(y=2, x=3)"
   ]
  },
  {
   "cell_type": "markdown",
   "metadata": {},
   "source": [
    "Agora vejamos uma função que não possui um comando **return**:"
   ]
  },
  {
   "cell_type": "code",
   "execution_count": 14,
   "metadata": {},
   "outputs": [
    {
     "name": "stdout",
     "output_type": "stream",
     "text": [
      "9\n"
     ]
    }
   ],
   "source": [
    "def power(x, y):\n",
    "    print(x ** y)\n",
    "\n",
    "power(3, 2)"
   ]
  },
  {
   "cell_type": "markdown",
   "metadata": {},
   "source": [
    "À primeira vista, a função *power* acima seria chamada de procedimento em outras linguagens de programação, pois não retorna um valor. No entanto, todas as funções de Python possuem retorno. Portanto, quando uma função não possui um comando **return**, ou possui o comando sem associá-lo a um valor, a função retorna **None** (nulo). Nos exemplos abaixo, a chamada da função faz com que o comando **print** interno imprima o valor $3^2$ e depois a função retorna **None**."
   ]
  },
  {
   "cell_type": "code",
   "execution_count": 15,
   "metadata": {},
   "outputs": [
    {
     "name": "stdout",
     "output_type": "stream",
     "text": [
      "9\n",
      "None\n"
     ]
    }
   ],
   "source": [
    "print(power(3, 2))"
   ]
  },
  {
   "cell_type": "code",
   "execution_count": 16,
   "metadata": {},
   "outputs": [
    {
     "name": "stdout",
     "output_type": "stream",
     "text": [
      "9\n",
      "None\n"
     ]
    }
   ],
   "source": [
    "def power(x, y):\n",
    "    print(x ** y)\n",
    "    return\n",
    "\n",
    "print(power(3, 2))"
   ]
  },
  {
   "cell_type": "markdown",
   "metadata": {},
   "source": [
    "É possível construir funções que retornam múltiplos valores em Python. Vejamos uma função que recebe dois inteiros e retorna o quociente e o resto da sua divisão:"
   ]
  },
  {
   "cell_type": "code",
   "execution_count": 18,
   "metadata": {},
   "outputs": [
    {
     "data": {
      "text/plain": [
       "(3, 1)"
      ]
     },
     "execution_count": 18,
     "metadata": {},
     "output_type": "execute_result"
    }
   ],
   "source": [
    "def div(dividend, divisor):\n",
    "    return dividend // divisor, dividend % divisor\n",
    "\n",
    "div(7, 2)"
   ]
  },
  {
   "cell_type": "markdown",
   "metadata": {},
   "source": [
    "Como se pode ver, os retornos da função *div* foram impressos entre parênteses, ou seja, na forma de uma tupla. Como vimos na Seção anterior, para definir uma tupla, basta declarar valores separados por vírgulas, ou seja, o comando **return** da função acima está declarando que retornará uma tupla contendo o quociente e o resto da divisão inteira dos valores *dividend* e *divisor*. Isso significa que Python emula retornos múltiplos de funções por meio do retorno de um único valor do tipo tupla. Essa abordagem permite desconstruir o retorno em múltiplas atribuições durante a chamada. Exemplo:"
   ]
  },
  {
   "cell_type": "code",
   "execution_count": 20,
   "metadata": {},
   "outputs": [
    {
     "data": {
      "text/plain": [
       "7"
      ]
     },
     "execution_count": 20,
     "metadata": {},
     "output_type": "execute_result"
    }
   ],
   "source": [
    "dividend, divisor = 7, 2\n",
    "(quocient, remainder) = div(dividend, divisor)\n",
    "\n",
    "quocient * divisor + remainder"
   ]
  },
  {
   "cell_type": "markdown",
   "metadata": {},
   "source": [
    "## Declarando valores default\n",
    "\n",
    "Funções podem ser definidas com valores default para seus parâmetros. Isso permite criar funções que podem ser chamadas com parâmetros omitidos. Por exemplo:"
   ]
  },
  {
   "cell_type": "code",
   "execution_count": 23,
   "metadata": {},
   "outputs": [
    {
     "data": {
      "text/plain": [
       "(9, 16, 27, 1, 1)"
      ]
     },
     "execution_count": 23,
     "metadata": {},
     "output_type": "execute_result"
    }
   ],
   "source": [
    "def power(x=3, y=2):\n",
    "    return x ** y\n",
    "\n",
    "power(), power(x=4), power(y=3), power(x=10, y=0), power(y=0, x=10)"
   ]
  },
  {
   "cell_type": "markdown",
   "metadata": {},
   "source": [
    "É comum que uma função seja definida com parâmetros que possuem valores default e parâmetros que precisam ser informados. Nesse caso, é necessário declarar os parâmetros sem valor default primeiro. Como vimos acima, é possível passar valores para parâmetros sem valor default pelo seus nomes, não sendo necessário respeitar a ordem de declaração dos parâmetros. No entanto, caso um parâmetro não seja passado pelo seu nome, ele deve respeitar a ordem de declaração."
   ]
  },
  {
   "cell_type": "code",
   "execution_count": 32,
   "metadata": {},
   "outputs": [
    {
     "data": {
      "text/plain": [
       "(9, 9, 9, 9)"
      ]
     },
     "execution_count": 32,
     "metadata": {},
     "output_type": "execute_result"
    }
   ],
   "source": [
    "def power(x, y=2):\n",
    "    return x ** y\n",
    "\n",
    "power(3), power(y=2, x=3), power(3, y=2), power(3, 2)"
   ]
  },
  {
   "cell_type": "markdown",
   "metadata": {},
   "source": [
    "## Quantidade indefinida de argumentos\n",
    "\n",
    "É possível especifica um função que pode receber uma quantidade indefinida de argumentos. Esses parâmetros serão \"empacotados\" em uma tupla chamada *args*. No código abaixo, note que é preciso marcar a tupla *args* com um asterisco, para que Python saiba que deve alocar todos os parâmetros como elementos dela, na ordem que são passados."
   ]
  },
  {
   "cell_type": "code",
   "execution_count": 36,
   "metadata": {},
   "outputs": [
    {
     "name": "stdout",
     "output_type": "stream",
     "text": [
      "1\n",
      "2\n",
      "a\n",
      "1\n",
      "4\n",
      "teste\n",
      "-1\n"
     ]
    }
   ],
   "source": [
    "def print_all(*args):\n",
    "    for arg in args:\n",
    "        print(arg)\n",
    "        \n",
    "print_all(1, 2, 'a', 1, 4, 'teste', -1)"
   ]
  },
  {
   "cell_type": "markdown",
   "metadata": {},
   "source": [
    "Na definição de uma função com quantidade indefinida de argumentos, é possível declarar parâmetros normalmente antes da declaração \\**args*. Quaisquer parâmetros passados além dos parâmetros definidos normalmente serão alocados em *args*:"
   ]
  },
  {
   "cell_type": "code",
   "execution_count": 37,
   "metadata": {},
   "outputs": [
    {
     "name": "stdout",
     "output_type": "stream",
     "text": [
      "Gaussian with mean: 0 and variance: 1\n"
     ]
    }
   ],
   "source": [
    "def print_all(message, mean=0, variance=1, *args):\n",
    "    print(message.format(mean, variance))\n",
    "    for arg in args:\n",
    "        print(message.format(arg, variance))\n",
    "\n",
    "print_all('Gaussian with mean: {0} and variance: {1}')"
   ]
  },
  {
   "cell_type": "code",
   "execution_count": 38,
   "metadata": {},
   "outputs": [
    {
     "name": "stdout",
     "output_type": "stream",
     "text": [
      "Gaussian with mean: 1 and variance: 1\n"
     ]
    }
   ],
   "source": [
    "print_all('Gaussian with mean: {0} and variance: {1}', 1)"
   ]
  },
  {
   "cell_type": "code",
   "execution_count": 40,
   "metadata": {},
   "outputs": [
    {
     "name": "stdout",
     "output_type": "stream",
     "text": [
      "Gaussian with mean: 1 and variance: 4\n"
     ]
    }
   ],
   "source": [
    "print_all('Gaussian with mean: {0} and variance: {1}', 1, 4)"
   ]
  },
  {
   "cell_type": "code",
   "execution_count": 41,
   "metadata": {},
   "outputs": [
    {
     "name": "stdout",
     "output_type": "stream",
     "text": [
      "Gaussian with mean: 1 and variance: 4\n",
      "Gaussian with mean: 0 and variance: 4\n",
      "Gaussian with mean: 3 and variance: 4\n",
      "Gaussian with mean: -1 and variance: 4\n",
      "Gaussian with mean: 7 and variance: 4\n"
     ]
    }
   ],
   "source": [
    "print_all('Gaussian with mean: {0} and variance: {1}', 1, 4, 0, 3, -1, 7)"
   ]
  },
  {
   "cell_type": "code",
   "execution_count": 42,
   "metadata": {},
   "outputs": [
    {
     "ename": "SyntaxError",
     "evalue": "positional argument follows keyword argument (<ipython-input-42-7f74be08f784>, line 1)",
     "output_type": "error",
     "traceback": [
      "\u001b[0;36m  File \u001b[0;32m\"<ipython-input-42-7f74be08f784>\"\u001b[0;36m, line \u001b[0;32m1\u001b[0m\n\u001b[0;31m    print_all('Gaussian with mean: {0} and variance: {1}', mean=1, variance=4, 0, 3, -1, 7)\u001b[0m\n\u001b[0m                                                                              ^\u001b[0m\n\u001b[0;31mSyntaxError\u001b[0m\u001b[0;31m:\u001b[0m positional argument follows keyword argument\n"
     ]
    }
   ],
   "source": [
    "print_all('Gaussian with mean: {0} and variance: {1}', mean=1, variance=4, 0, 3, -1, 7)"
   ]
  },
  {
   "cell_type": "markdown",
   "metadata": {},
   "source": [
    "O código acima apresenta erro porque foram passados argumentos por nome antes de argumentos posicionais. Python também permite que uma função seja chamada com uma quantidade indefinida de parâmetros por nome. Para isso, é preciso declarar o parâmetro *kwargs*, que irá representar um dicionário em que Python irá alocar todos os parâmetros passados por nome que não foram pré-definidos na chamada da função. O parâmetro *kwargs* deve ser marcado por asteriscos duplos na definição da função. Exemplo:"
   ]
  },
  {
   "cell_type": "code",
   "execution_count": 43,
   "metadata": {},
   "outputs": [
    {
     "name": "stdout",
     "output_type": "stream",
     "text": [
      "param1 1\n",
      "param2 2\n",
      "param3 -1\n"
     ]
    }
   ],
   "source": [
    "def print_all(**kwargs):\n",
    "    for key in kwargs:\n",
    "        print(key, kwargs[key])\n",
    "\n",
    "print_all(param1=1, param2=2, param3=-1)"
   ]
  },
  {
   "cell_type": "markdown",
   "metadata": {},
   "source": [
    "É possível definir uma função com parâmetros normais e quantidade indefinida de parâmetros posicionais e de parâmetros por nome, combinando \\**args* e \\*\\**kwargs*. Nesse caso, é preciso declarar os parâmetros normais, *args* e *kwargs* nessa ordem."
   ]
  },
  {
   "cell_type": "code",
   "execution_count": 44,
   "metadata": {},
   "outputs": [
    {
     "name": "stdout",
     "output_type": "stream",
     "text": [
      "Gaussian with mean: 1 and variance: 4\n",
      "Gaussian with mean: 0 and variance: 4\n",
      "Gaussian with mean: 3 and variance: 4\n",
      "Gaussian with mean: -1 and variance: 4\n",
      "Gaussian with mean: 7 and variance: 4\n",
      "param1 1\n",
      "param2 2\n",
      "param3 -1\n"
     ]
    }
   ],
   "source": [
    "def print_all(message, mean=0, variance=1, *args, **kwargs):\n",
    "    print(message.format(mean, variance))\n",
    "    for arg in args:\n",
    "        print(message.format(arg, variance))\n",
    "    for key in kwargs:\n",
    "        print(key, kwargs[key])\n",
    "\n",
    "print_all('Gaussian with mean: {0} and variance: {1}', 1, 4, 0, 3, -1, 7, param1=1, param2=2, param3=-1)"
   ]
  },
  {
   "cell_type": "markdown",
   "metadata": {},
   "source": [
    "Esse tipo de declaração mais complexo é muito comum nas funções de geração de gráficos da biblioteca **matplotlib**, pois isso permite que o usário tenha bastante liberdade para customizar os gráficos.\n",
    "\n",
    "Os operadores \\* e \\** também são úteis para chamar funções \"desempacotando\" listas/tuplas e dicionários para preencher argumentos posicionais e por nome, respectivamente. Exemplos:"
   ]
  },
  {
   "cell_type": "code",
   "execution_count": 45,
   "metadata": {},
   "outputs": [
    {
     "data": {
      "text/plain": [
       "[3, 4, 5, 6, 7, 8, 9]"
      ]
     },
     "execution_count": 45,
     "metadata": {},
     "output_type": "execute_result"
    }
   ],
   "source": [
    "args = [3, 10]\n",
    "list(range(*args))"
   ]
  },
  {
   "cell_type": "code",
   "execution_count": 46,
   "metadata": {},
   "outputs": [
    {
     "name": "stdout",
     "output_type": "stream",
     "text": [
      "90\n"
     ]
    }
   ],
   "source": [
    "def print_sum(param1=1, param2=2, param3=-1):\n",
    "    print(param1 + param2 + param3)\n",
    "    \n",
    "params = {\n",
    "    'param1': 20, \n",
    "    'param2': 30, \n",
    "    'param3': 40\n",
    "}\n",
    "\n",
    "print_sum(**params)"
   ]
  },
  {
   "cell_type": "markdown",
   "metadata": {},
   "source": [
    "## Passando funções como argumentos\n",
    "\n",
    "Como mencionado acima, a definição de uma função cria uma variável com o mesmo nome, cujo valor é do tipo função. Portanto funções também podem ser passadas como parâmetros para outras funções. O código abaixo define uma função que recebe um valor *x* e uma função *oper*, que define que operação será realizada com o valor de *x*:"
   ]
  },
  {
   "cell_type": "code",
   "execution_count": 49,
   "metadata": {},
   "outputs": [
    {
     "data": {
      "text/plain": [
       "9"
      ]
     },
     "execution_count": 49,
     "metadata": {},
     "output_type": "execute_result"
    }
   ],
   "source": [
    "def square(x):\n",
    "    return x ** 2\n",
    "\n",
    "def perform_oper(x, oper):\n",
    "    return oper(x)\n",
    "\n",
    "perform_oper(3, square)"
   ]
  },
  {
   "cell_type": "markdown",
   "metadata": {},
   "source": [
    "O segundo argumento passado para a função *perform_oper* foi a função *square* definida acima, que foi então chamada pelo código de *perform_oper* para retornar o quadrado de *x*."
   ]
  },
  {
   "cell_type": "markdown",
   "metadata": {},
   "source": [
    "## O operador lambda\n",
    "\n",
    "Em Python, é possível usar o operador **lambda** para definir funções pequenas (que ocupam apenas uma linha). Isso pode ser útil para definir funções simples que não serão usadas em outros módulos ou em várias partes diferentes do código. O operador **lambda** retorna um valor do tipo função, portanto para usar a função assim definida, pode-se atribuí-la a uma variável:"
   ]
  },
  {
   "cell_type": "code",
   "execution_count": 51,
   "metadata": {},
   "outputs": [
    {
     "data": {
      "text/plain": [
       "27"
      ]
     },
     "execution_count": 51,
     "metadata": {},
     "output_type": "execute_result"
    }
   ],
   "source": [
    "cube = lambda x: x ** 3\n",
    "\n",
    "cube(3)"
   ]
  },
  {
   "cell_type": "markdown",
   "metadata": {},
   "source": [
    "Um dos casos de uso comuns do operador **lambda** é quando precisamos passar uma função simples como parâmetro para outra função de forma concisa. Exemplo:"
   ]
  },
  {
   "cell_type": "code",
   "execution_count": 52,
   "metadata": {},
   "outputs": [
    {
     "data": {
      "text/plain": [
       "81"
      ]
     },
     "execution_count": 52,
     "metadata": {},
     "output_type": "execute_result"
    }
   ],
   "source": [
    "def perform_oper(x, oper):\n",
    "    return oper(x)\n",
    "\n",
    "perform_oper(3, lambda x: x ** 4)"
   ]
  },
  {
   "cell_type": "markdown",
   "metadata": {},
   "source": [
    "## Funções básicas\n",
    "\n",
    "Python vem de fábrica com diversas [funções](https://docs.python.org/3.7/library/functions.html) que podem ser bastante úteis. Além das funções que já vimos e chamamos de operadores, como **list**(), **set**(), **tuple**(), **dict**(), **type**(), entre outras, temos também algumas operações, como:\n",
    "\n",
    "* **sum**(): Soma os elementos de uma coleção;\n",
    "* **min**(), **max**(): Determina o menor/maior valor em uma coleção;\n",
    "* **pow**(x, y): Eleva *x* à *y*-ésima potência;\n",
    "* **round**(): Arredonda o valor passado como parâmetro;\n",
    "* **all**: Retorna **True** se todos os elementos da coleção passada como parâmetro avaliarem como **True**.\n",
    "* **any**: Retorna **True** se algum dos elementos da coleção passada como parâmetro avaliar como **True**, caso contrário, retorna **False**.\n",
    "\n",
    "Outras funções comumente úteis incluem as funções de entrada e saída e as funções **zip** e **enumerate**.\n",
    "\n",
    "### Funções de entrada e saída\n",
    "\n",
    "As principais funções de entrada e saída de Python são **input**, **print** e **open**. A função **input** pede que o usuário forneça um valor. Por exemplo, o código abaixo pede que o usuário digite seu nome e imprime uma saudação:"
   ]
  },
  {
   "cell_type": "code",
   "execution_count": 1,
   "metadata": {},
   "outputs": [
    {
     "name": "stdout",
     "output_type": "stream",
     "text": [
      "Digite seu nome: Lucygêmmersson\n",
      "Hello, Lucygêmmersson\n"
     ]
    }
   ],
   "source": [
    "name = input('Digite seu nome: ')\n",
    "\n",
    "print('Hello, ' + name)"
   ]
  },
  {
   "cell_type": "markdown",
   "metadata": {},
   "source": [
    "O valor fornecido pelo usuário pode ser convertido para tipos diferentes, usando as funções como **int**, **bool**, **float**. Exemplo:"
   ]
  },
  {
   "cell_type": "code",
   "execution_count": 76,
   "metadata": {},
   "outputs": [
    {
     "name": "stdout",
     "output_type": "stream",
     "text": [
      "Digite sua idade: 30\n",
      "Você se aposentará aos 117 anos\n"
     ]
    }
   ],
   "source": [
    "age = int(input('Digite sua idade: '))\n",
    "\n",
    "print('Você se aposentará aos {0} anos'.format(age + 87))"
   ]
  },
  {
   "cell_type": "markdown",
   "metadata": {},
   "source": [
    "A função **open** permite abrir um arquivo para escrita ou para leitura, com opções de abertura do arquivo sendo especificadas pelo parâmetro *mode*. Com *mode='r'*, o arquivo é aberto para leitura, enquanto *mode='w'* abre o arquivo para escrita. Outras opções podem ser vistas na [documentação de Python](https://docs.python.org/3.7/library/functions.html#open). Quando um arquivo é aberto para leitura, suas linhas podem ser acessadas iterativamente usando o operador de laço **for**. \n",
    "\n",
    "O código abaixo abre um arquivo chamado \"samples.txt\" para leitura e imprime seu conteúdo linha-a-linha. O código também introduz um nome tipo de bloco, chamado **with**. Esse bloco define uma região de código em que o arquivo será acessado. Ao final da execução do código dentro do **with**, o arquivo será fechado automaticamente. O bloco **with** também é muito útil para controlar conexões com servidores e bancos de dados."
   ]
  },
  {
   "cell_type": "code",
   "execution_count": 1,
   "metadata": {},
   "outputs": [
    {
     "output_type": "stream",
     "name": "stdout",
     "text": [
      "1\n2\n34534\n123\n254\n68\n21\n3126\n765\n876\n32423\n32\n1\n43643\n1"
     ]
    }
   ],
   "source": [
    "with open('../data/samples.txt', mode='r') as file:\n",
    "    for line in file:\n",
    "        print(line, end='')"
   ]
  },
  {
   "cell_type": "markdown",
   "metadata": {},
   "source": [
    "Para escrever em um arquivo, basta abrí-lo em modo de escrita e usar a função **print** apontando para o arquivo. O código abaixo irá ler o arquivo \"samples.txt\" e imprimir suas linhas no arquivo \"copy.txt\". Note os blocos **with** aninhados, para que os dois arquivos sejam fechados ao final do processamento."
   ]
  },
  {
   "cell_type": "code",
   "execution_count": 2,
   "metadata": {},
   "outputs": [],
   "source": [
    "with open('../data/samples.txt', mode='r') as samples:\n",
    "    with open('../data/copy.txt', mode='w') as copy:\n",
    "        for line in samples:\n",
    "            print(line, file=copy, end='')"
   ]
  },
  {
   "cell_type": "markdown",
   "metadata": {},
   "source": [
    "### Função zip\n",
    "\n",
    "A função **zip** retorna os elementos de duas ou mais coleções em formato de tuplas, em que a i-ésima tupla contém os i-ésimos elementos de cada coleção. Exemplo:"
   ]
  },
  {
   "cell_type": "code",
   "execution_count": 88,
   "metadata": {},
   "outputs": [
    {
     "name": "stdout",
     "output_type": "stream",
     "text": [
      "Média: 1, Variância: 1\n",
      "Média: -1, Variância: 4\n",
      "Média: 0, Variância: 9\n"
     ]
    }
   ],
   "source": [
    "means, variances = [1, -1, 0], [1, 4, 9]\n",
    "\n",
    "for mean, var in zip(means, variances):\n",
    "    print('Média: {0}, Variância: {1}'.format(mean, var))"
   ]
  },
  {
   "cell_type": "markdown",
   "metadata": {},
   "source": [
    "### Função enumerate\n",
    "\n",
    "Permite iterar pelos elementos de uma coleção e pelos seus índices simultaneamente. Exemplo:"
   ]
  },
  {
   "cell_type": "code",
   "execution_count": 92,
   "metadata": {},
   "outputs": [
    {
     "name": "stdout",
     "output_type": "stream",
     "text": [
      "Índice: 0, Média: 1\n",
      "Índice: 1, Média: -1\n",
      "Índice: 2, Média: 0\n"
     ]
    }
   ],
   "source": [
    "for i, mean in enumerate(means):\n",
    "    print('Índice: {0}, Média: {1}'.format(i, mean))"
   ]
  },
  {
   "cell_type": "markdown",
   "metadata": {},
   "source": [
    "Como a função **zip** retorna uma coleção de tuplas, é possível usar a função **enumerate** para iterar sobre o resultado do **zip** (observe os parênteses para evitar ambiguidade entre as tuplas retornadas por **zip** e **enumerate**):"
   ]
  },
  {
   "cell_type": "code",
   "execution_count": 94,
   "metadata": {},
   "outputs": [
    {
     "name": "stdout",
     "output_type": "stream",
     "text": [
      "Índice: 0, Média: 1, Variância: 1\n",
      "Índice: 1, Média: -1, Variância: 4\n",
      "Índice: 2, Média: 0, Variância: 9\n"
     ]
    }
   ],
   "source": [
    "for i, (mean, var) in enumerate(zip(means, variances)):\n",
    "    print('Índice: {0}, Média: {1}, Variância: {2}'.format(i, mean, var))"
   ]
  },
  {
   "cell_type": "markdown",
   "metadata": {},
   "source": []
  }
 ],
 "metadata": {
  "kernelspec": {
   "display_name": "Python 3",
   "language": "python",
   "name": "python3"
  },
  "language_info": {
   "codemirror_mode": {
    "name": "ipython",
    "version": 3
   },
   "file_extension": ".py",
   "mimetype": "text/x-python",
   "name": "python",
   "nbconvert_exporter": "python",
   "pygments_lexer": "ipython3",
   "version": "3.7.3"
  }
 },
 "nbformat": 4,
 "nbformat_minor": 2
}