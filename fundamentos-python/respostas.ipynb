{
 "cells": [
  {
   "attachments": {},
   "cell_type": "markdown",
   "metadata": {},
   "source": [
    "# Desafio \n",
    "\n",
    "Crie uma função que ao receber uma `string` retorne apenas os caracteres únicos que nela constam.\n",
    "Exemplo:\n",
    "\n",
    "    * `entrada`: 'abba' \n",
    "    * `saída`: 'ab'"
   ]
  },
  {
   "cell_type": "code",
   "execution_count": null,
   "metadata": {},
   "outputs": [],
   "source": [
    "pass"
   ]
  },
  {
   "attachments": {},
   "cell_type": "markdown",
   "metadata": {},
   "source": [
    "# Exercícios"
   ]
  },
  {
   "cell_type": "markdown",
   "metadata": {},
   "source": [
    "1.1. Calcule a área de um círculo de raio 2. Assuma *pi = 3.14*."
   ]
  },
  {
   "cell_type": "code",
   "execution_count": 3,
   "metadata": {},
   "outputs": [
    {
     "data": {
      "text/plain": [
       "12.56"
      ]
     },
     "execution_count": 3,
     "metadata": {},
     "output_type": "execute_result"
    }
   ],
   "source": [
    "raio = 2\n",
    "pi = 3.14\n",
    "\n",
    "pi * raio ** 2"
   ]
  },
  {
   "cell_type": "markdown",
   "metadata": {},
   "source": [
    "1.2. Escreva uma função que verifica se um número é par. Se for, imprima uma mensagem. Se não for, imprima outra mensagem."
   ]
  },
  {
   "cell_type": "code",
   "execution_count": 15,
   "metadata": {},
   "outputs": [
    {
     "data": {
      "text/plain": [
       "'Numero 2 é par'"
      ]
     },
     "execution_count": 15,
     "metadata": {},
     "output_type": "execute_result"
    }
   ],
   "source": [
    "def verificar_numero_par(x):\n",
    "    if x % 2 == 0:\n",
    "        resultado = 'par'\n",
    "    else:\n",
    "        resultado = 'ímpar'\n",
    "    return 'Numero {} é {}'.format(x, resultado)\n",
    "\n",
    "verificar_numero_par(2)"
   ]
  },
  {
   "cell_type": "code",
   "execution_count": 16,
   "metadata": {},
   "outputs": [
    {
     "data": {
      "text/plain": [
       "'Numero 3 é ímpar'"
      ]
     },
     "execution_count": 16,
     "metadata": {},
     "output_type": "execute_result"
    }
   ],
   "source": [
    "verificar_numero_par(3)"
   ]
  },
  {
   "cell_type": "markdown",
   "metadata": {},
   "source": [
    "1.3. No exercício acima, se o número for par, verifique se ele é múltiplo de 4. Se for, exiba uma mensagem diferente."
   ]
  },
  {
   "cell_type": "code",
   "execution_count": 17,
   "metadata": {},
   "outputs": [
    {
     "data": {
      "text/plain": [
       "'Numero 2 é par'"
      ]
     },
     "execution_count": 17,
     "metadata": {},
     "output_type": "execute_result"
    }
   ],
   "source": [
    "def verificar_numero_par2(x):\n",
    "    if x % 2 == 0:\n",
    "        resultado = 'par'\n",
    "        if x % 4 == 0:\n",
    "            # resultado = ' '.join([resultado, 'e múltiplo de 4'])\n",
    "            resultado += ' e múltiplo de 4'\n",
    "    else:\n",
    "        resultado = 'ímpar'\n",
    "\n",
    "    return 'Numero {} é {}'.format(x, resultado)\n",
    "\n",
    "verificar_numero_par2(2)"
   ]
  },
  {
   "cell_type": "code",
   "execution_count": 18,
   "metadata": {},
   "outputs": [
    {
     "data": {
      "text/plain": [
       "'Numero 3 é ímpar'"
      ]
     },
     "execution_count": 18,
     "metadata": {},
     "output_type": "execute_result"
    }
   ],
   "source": [
    "verificar_numero_par2(3)"
   ]
  },
  {
   "cell_type": "code",
   "execution_count": 19,
   "metadata": {},
   "outputs": [
    {
     "data": {
      "text/plain": [
       "'Numero 64 é par e múltiplo de 4'"
      ]
     },
     "execution_count": 19,
     "metadata": {},
     "output_type": "execute_result"
    }
   ],
   "source": [
    "verificar_numero_par2(64)"
   ]
  },
  {
   "cell_type": "markdown",
   "metadata": {},
   "source": [
    "1.4. Escreva um código que imprima os elementos menores que 5 na seguinte lista:"
   ]
  },
  {
   "cell_type": "code",
   "execution_count": 21,
   "metadata": {},
   "outputs": [
    {
     "data": {
      "text/plain": [
       "[1, 4, 2, 3, 2, 1, -1, 0]"
      ]
     },
     "execution_count": 21,
     "metadata": {},
     "output_type": "execute_result"
    }
   ],
   "source": [
    "a = [1, 4, 2, 3, 2, 1, 5, 8, 5, 7, -1, 0, 23]\n",
    "\n",
    "resultado = []\n",
    "for item in a:\n",
    "    if item < 5:\n",
    "        resultado.append(item)\n",
    "\n",
    "resultado"
   ]
  },
  {
   "cell_type": "code",
   "execution_count": 23,
   "metadata": {},
   "outputs": [
    {
     "data": {
      "text/plain": [
       "[1, 4, 2, 3, 2, 1, -1, 0]"
      ]
     },
     "execution_count": 23,
     "metadata": {},
     "output_type": "execute_result"
    }
   ],
   "source": [
    "[item for item in a if item < 5]"
   ]
  },
  {
   "cell_type": "markdown",
   "metadata": {},
   "source": [
    "1.5. Escreva um código que encontra todos os divisores do número 42."
   ]
  },
  {
   "cell_type": "code",
   "execution_count": 24,
   "metadata": {},
   "outputs": [
    {
     "data": {
      "text/plain": [
       "[1, 2, 3, 6, 7, 14, 21, 42]"
      ]
     },
     "execution_count": 24,
     "metadata": {},
     "output_type": "execute_result"
    }
   ],
   "source": [
    "resultado = []\n",
    "\n",
    "for numero in range(1, 43):\n",
    "    if 42 % numero == 0:\n",
    "        resultado.append(numero)\n",
    "\n",
    "resultado"
   ]
  },
  {
   "cell_type": "code",
   "execution_count": 10,
   "metadata": {},
   "outputs": [
    {
     "data": {
      "text/plain": [
       "[1, 2, 3, 6, 7, 14, 21, 42]"
      ]
     },
     "execution_count": 10,
     "metadata": {},
     "output_type": "execute_result"
    }
   ],
   "source": [
    "divisores = [i for i in range(1, 43) if 42 % i == 0]\n",
    "\n",
    "divisores"
   ]
  },
  {
   "cell_type": "markdown",
   "metadata": {},
   "source": [
    "1.6. Calcule a multiplicação das duas matrizes abaixo sem usar laços:"
   ]
  },
  {
   "cell_type": "code",
   "execution_count": 28,
   "metadata": {},
   "outputs": [
    {
     "name": "stdout",
     "output_type": "stream",
     "text": [
      "[[7, 6], [10, 4]]\n"
     ]
    }
   ],
   "source": [
    "a = [[2, 3], [4, 2]]\n",
    "b = [[2, 0], [1, 2]]\n",
    "\n",
    "print(\n",
    "    [\n",
    "        [\n",
    "            a[0][0] * b[0][0] + a[0][1] * b[1][0],\n",
    "            a[0][0] * b[0][1] + a[0][1] * b[1][1]\n",
    "        ],\n",
    "        [\n",
    "            a[1][0] * b[0][0] + a[1][1] * b[1][0],\n",
    "            a[1][0] * b[0][1] + a[1][1] * b[1][1]\n",
    "        ]\n",
    "    ]\n",
    "\n",
    ")"
   ]
  },
  {
   "cell_type": "markdown",
   "metadata": {},
   "source": [
    "1.7. Calcule a multiplicação das duas matrizes acima usando laços"
   ]
  },
  {
   "cell_type": "code",
   "execution_count": 27,
   "metadata": {},
   "outputs": [
    {
     "data": {
      "text/plain": [
       "[[0, 0], [0, 0]]"
      ]
     },
     "execution_count": 27,
     "metadata": {},
     "output_type": "execute_result"
    }
   ],
   "source": [
    "mul = [[0 for _ in range(2)] for _ in range(2)]\n",
    "mul"
   ]
  },
  {
   "cell_type": "code",
   "execution_count": null,
   "metadata": {},
   "outputs": [],
   "source": [
    "a = [\n",
    "    [2, 3], \n",
    "    [4, 2]\n",
    "]\n",
    "b = [\n",
    "    [2, 0], \n",
    "    [1, 2]\n",
    "]"
   ]
  },
  {
   "cell_type": "code",
   "execution_count": 33,
   "metadata": {},
   "outputs": [
    {
     "data": {
      "text/plain": [
       "7"
      ]
     },
     "execution_count": 33,
     "metadata": {},
     "output_type": "execute_result"
    }
   ],
   "source": [
    "a[0][0] * b[0][0] + a[0][1] * b[1][0]"
   ]
  },
  {
   "cell_type": "code",
   "execution_count": 34,
   "metadata": {},
   "outputs": [
    {
     "data": {
      "text/plain": [
       "6"
      ]
     },
     "execution_count": 34,
     "metadata": {},
     "output_type": "execute_result"
    }
   ],
   "source": [
    "a[0][0] * b[0][1] + a[0][1] * b[1][1]"
   ]
  },
  {
   "cell_type": "code",
   "execution_count": 97,
   "metadata": {},
   "outputs": [
    {
     "data": {
      "text/plain": [
       "[[7, 6], [10, 4]]"
      ]
     },
     "execution_count": 97,
     "metadata": {},
     "output_type": "execute_result"
    }
   ],
   "source": [
    "for i in range(2):\n",
    "    for j in range(2):\n",
    "        for c in range(2):\n",
    "            mul[i][c] += a[i][j] * b[j][c]\n",
    "\n",
    "mul"
   ]
  },
  {
   "cell_type": "markdown",
   "metadata": {},
   "source": [
    "1.8. Calcule o fatorial de 5 usando algum tipo de laço."
   ]
  },
  {
   "cell_type": "code",
   "execution_count": 17,
   "metadata": {},
   "outputs": [
    {
     "data": {
      "text/plain": [
       "120"
      ]
     },
     "execution_count": 17,
     "metadata": {},
     "output_type": "execute_result"
    }
   ],
   "source": [
    "prod = 1\n",
    "\n",
    "for i in range(1, 6):\n",
    "    prod *= i\n",
    "\n",
    "prod"
   ]
  },
  {
   "cell_type": "markdown",
   "metadata": {},
   "source": [
    "1.9. Dada uma variável $X \\sim N(0, 4)$, calcule o valor da fdp para o valor 2."
   ]
  },
  {
   "cell_type": "code",
   "execution_count": 27,
   "metadata": {},
   "outputs": [
    {
     "data": {
      "text/plain": [
       "0.12098536225957168"
      ]
     },
     "execution_count": 27,
     "metadata": {},
     "output_type": "execute_result"
    }
   ],
   "source": [
    "import math\n",
    "\n",
    "x, mu, sigma_2 = 2, 0, 4\n",
    "\n",
    "fdp = (math.e ** (-(x - mu) ** 2 / (2 * sigma_2))) / math.sqrt(2 * math.pi * sigma_2)\n",
    "\n",
    "fdp"
   ]
  },
  {
   "cell_type": "markdown",
   "metadata": {},
   "source": [
    "1.10. Calcule a distância Euclidiana dos seguintes vetores:"
   ]
  },
  {
   "cell_type": "code",
   "execution_count": 28,
   "metadata": {},
   "outputs": [
    {
     "name": "stdout",
     "output_type": "stream",
     "text": [
      "3.4641016151377544\n"
     ]
    }
   ],
   "source": [
    "import math\n",
    "\n",
    "a, b = [1, 0, 1], [-1, 2, 3]\n",
    "\n",
    "total = 0\n",
    "\n",
    "for i in range(len(a)):\n",
    "    total += (a[i] - b[i]) ** 2\n",
    "    \n",
    "print(math.sqrt(total))"
   ]
  },
  {
   "cell_type": "markdown",
   "metadata": {},
   "source": [
    "1.11. Imprima as potências de 2, começando em $2^0$, enquanto o resultado for menor do que 2000."
   ]
  },
  {
   "cell_type": "code",
   "execution_count": 29,
   "metadata": {},
   "outputs": [
    {
     "name": "stdout",
     "output_type": "stream",
     "text": [
      "1\n",
      "2\n",
      "4\n",
      "8\n",
      "16\n",
      "32\n",
      "64\n",
      "128\n",
      "256\n",
      "512\n",
      "1024\n"
     ]
    }
   ],
   "source": [
    "v = 1\n",
    "\n",
    "while v < 2000:\n",
    "    print(v)\n",
    "    v *= 2"
   ]
  },
  {
   "cell_type": "markdown",
   "metadata": {},
   "source": [
    "1.12. Verifique se o número 79 é primo."
   ]
  },
  {
   "cell_type": "code",
   "execution_count": 101,
   "metadata": {},
   "outputs": [
    {
     "name": "stdout",
     "output_type": "stream",
     "text": [
      "79 is prime\n"
     ]
    }
   ],
   "source": [
    "number = 2\n",
    "x = 79\n",
    "\n",
    "while number < x:\n",
    "    if x % number == 0:\n",
    "        print('{} não é primo'.format(x))\n",
    "        break\n",
    "    number += 1\n",
    "else:\n",
    "    print('{} é primo'.format(x))"
   ]
  },
  {
   "cell_type": "markdown",
   "metadata": {},
   "source": [
    "1.13. Escreva uma linha de código Python que gere uma lista apenas com os valores divisíveis por 2 e por 5 na lista abaixo:"
   ]
  },
  {
   "cell_type": "code",
   "execution_count": 37,
   "metadata": {},
   "outputs": [
    {
     "data": {
      "text/plain": [
       "[10, 20, 30]"
      ]
     },
     "execution_count": 37,
     "metadata": {},
     "output_type": "execute_result"
    }
   ],
   "source": [
    "a = [1, 4, 10, 13, 15, 16, 20, 28, 30]\n",
    "\n",
    "[x for x in a if x % 2 == 0 and x % 5 == 0]"
   ]
  },
  {
   "cell_type": "markdown",
   "metadata": {},
   "source": [
    "1.14. Escreva um laço que resulte no elemento de índice 7 da [sequência de Fibonacci](https://pt.wikipedia.org/wiki/Sequ%C3%AAncia_de_Fibonacci) (lembrando que em Python os índices começam em 0):"
   ]
  },
  {
   "cell_type": "code",
   "execution_count": 88,
   "metadata": {},
   "outputs": [
    {
     "data": {
      "text/plain": [
       "13"
      ]
     },
     "execution_count": 88,
     "metadata": {},
     "output_type": "execute_result"
    }
   ],
   "source": [
    "primeiro = 0\n",
    "segundo = 1\n",
    "\n",
    "valor = 0\n",
    "for i in range(1, 7):\n",
    "    valor = primeiro + segundo\n",
    "    primeiro = segundo\n",
    "    segundo = valor\n",
    "\n",
    "valor"
   ]
  },
  {
   "attachments": {},
   "cell_type": "markdown",
   "metadata": {},
   "source": [
    "1.15. Escreva uma função que calcule a área de um círculo, dado um valor de raio. Peça um valor de raio ao usuário e calcule o valor da função."
   ]
  },
  {
   "cell_type": "code",
   "execution_count": 102,
   "metadata": {},
   "outputs": [
    {
     "name": "stdout",
     "output_type": "stream",
     "text": [
      "Type a radius value: 3.5\n"
     ]
    },
    {
     "data": {
      "text/plain": [
       "38.48451000647496"
      ]
     },
     "execution_count": 102,
     "metadata": {},
     "output_type": "execute_result"
    }
   ],
   "source": [
    "import math\n",
    "\n",
    "def calcular_area_circulo(raio):\n",
    "    return math.pi * raio ** 2\n",
    "\n",
    "raio = float(input('Insira o valor de raio de um círculo: '))\n",
    "calcular_area_circulo(raio)"
   ]
  },
  {
   "cell_type": "markdown",
   "metadata": {},
   "source": [
    "1.16. Escreva uma função que recebe uma lista e um valor e retorna uma sub-lista apenas com os elementos menores do que o valor fornecido."
   ]
  },
  {
   "cell_type": "code",
   "execution_count": 90,
   "metadata": {},
   "outputs": [
    {
     "data": {
      "text/plain": [
       "[1, 2, 0, -1, 4]"
      ]
     },
     "execution_count": 90,
     "metadata": {},
     "output_type": "execute_result"
    }
   ],
   "source": [
    "def listar_menores_que(l, v):\n",
    "    return [x for x in l if x < v]\n",
    "\n",
    "less_than([5, 1, 2, 5, 0, 9, -1, 11, 5, 4], 5)"
   ]
  },
  {
   "cell_type": "markdown",
   "metadata": {},
   "source": [
    "1.17. Escreva uma função que calcula a multiplicação de duas matrizes usando laços, mas apenas se as dimensões das matrizes forem compatíveis."
   ]
  },
  {
   "cell_type": "code",
   "execution_count": 4,
   "metadata": {},
   "outputs": [
    {
     "name": "stdout",
     "output_type": "stream",
     "text": [
      "[[7, 6], [10, 4]]\n",
      "[[7, 6], [10, 4], [1, 2]]\n",
      "Dimensões incompatíveis\n"
     ]
    }
   ],
   "source": [
    "def mulplicar_matrizes(a, b):\n",
    "    n_cols_a = len(a[0])\n",
    "    n_rows_b = len(b)\n",
    "    if n_cols_a == n_rows_b: \n",
    "        n_rows_a = len(a) \n",
    "        n_cols_b = len(b[0])\n",
    "        \n",
    "        mul = [[0 for _ in range(n_cols_b)] for _ in range(n_rows_a)]\n",
    "\n",
    "        for i in range(n_rows_a):\n",
    "            for j in range(n_cols_a):\n",
    "                for c in range(n_cols_b):\n",
    "                    mul[i][c] += a[i][j] * b[j][c]\n",
    "\n",
    "        return mul\n",
    "    else:\n",
    "        return 'Dimensões incompatíveis'\n",
    "\n",
    "a = [[2, 3], [4, 2]]\n",
    "b = [[2, 0], [1, 2]]\n",
    "c = [[2, 3], [4, 2], [0, 1]]\n",
    "d = [[2, 3, 0], [4, 2, 1]]\n",
    "\n",
    "print(mulplicar_matrizes(a, b))\n",
    "print(mulplicar_matrizes(c, b)) \n",
    "print(mulplicar_matrizes(d, a))"
   ]
  },
  {
   "cell_type": "markdown",
   "metadata": {},
   "source": [
    "1.18. Escreva uma função que recebe um número e valores de média e de variância e calcula a fdp das distribuições normais correspondentes às médias e às variâncias fornecidas."
   ]
  },
  {
   "cell_type": "code",
   "execution_count": 5,
   "metadata": {},
   "outputs": [
    {
     "data": {
      "text/plain": [
       "[0.05399096651318806, 0.5641895835477563, 0.029732572305907347]"
      ]
     },
     "execution_count": 5,
     "metadata": {},
     "output_type": "execute_result"
    }
   ],
   "source": [
    "import math\n",
    "\n",
    "def calcular_fdp_dist_normal(x, mu, sigma_2):\n",
    "    return (math.e ** (-(x - mu) ** 2 / (2 * sigma_2))) / math.sqrt(2 * math.pi * sigma_2)\n",
    "\n",
    "def testar_fdp(x, means, variances):\n",
    "    return [\n",
    "        calcular_fdp_dist_normal(x, mu, sigma_2) for mu, sigma_2 in zip(means, variances)]\n",
    "\n",
    "testar_fdp(2, [0, 2, -1], [1, 0.5, 2])"
   ]
  },
  {
   "cell_type": "markdown",
   "metadata": {},
   "source": [
    "1.19. Escreva uma função que verifica se um número é primo."
   ]
  },
  {
   "cell_type": "code",
   "execution_count": 76,
   "metadata": {},
   "outputs": [
    {
     "data": {
      "text/plain": [
       "(True, False)"
      ]
     },
     "execution_count": 76,
     "metadata": {},
     "output_type": "execute_result"
    }
   ],
   "source": [
    "def verificar_num_primo(n):\n",
    "    numero = 2\n",
    "    while numero < n:\n",
    "        if x % numero == 0:\n",
    "            return False\n",
    "            break\n",
    "        numero += 1\n",
    "    else:\n",
    "        return True\n",
    "\n",
    "print(verificar_num_primo(79))\n",
    "print(verificar_num_primo(100))"
   ]
  },
  {
   "cell_type": "markdown",
   "metadata": {},
   "source": [
    "1.20. Faça uma função que retorna todos os divisores de um número."
   ]
  },
  {
   "cell_type": "code",
   "execution_count": 6,
   "metadata": {},
   "outputs": [
    {
     "data": {
      "text/plain": [
       "[1, 2, 3, 4, 6, 7, 12, 14, 21, 28, 42, 84]"
      ]
     },
     "execution_count": 6,
     "metadata": {},
     "output_type": "execute_result"
    }
   ],
   "source": [
    "def calcular_divisores(n):\n",
    "    return [i for i in range(1, n + 1) if n % i == 0]\n",
    "\n",
    "calcular_divisores(84)"
   ]
  },
  {
   "cell_type": "markdown",
   "metadata": {},
   "source": [
    "1.21. Faça uma função que calcula o fatorial de um número."
   ]
  },
  {
   "cell_type": "code",
   "execution_count": 7,
   "metadata": {},
   "outputs": [
    {
     "name": "stdout",
     "output_type": "stream",
     "text": [
      "1\n",
      "1\n",
      "120\n"
     ]
    }
   ],
   "source": [
    "def calcular_fatorial(n):\n",
    "    prod = 1\n",
    "    for i in range(1, n + 1):\n",
    "        prod *= i\n",
    "    return prod\n",
    "\n",
    "print(calcular_fatorial(0))\n",
    "print(calcular_fatorial(1))\n",
    "print(calcular_fatorial(5))"
   ]
  },
  {
   "cell_type": "markdown",
   "metadata": {},
   "source": [
    "1.22. Faça uma função que calcula $P(X = x)$, tal que $X \\sim Binomial(n, p)$. Escreva uma função auxiliar que calcula ${n}\\choose{x}$ para chamar na função principal."
   ]
  },
  {
   "cell_type": "code",
   "execution_count": 8,
   "metadata": {},
   "outputs": [
    {
     "data": {
      "text/plain": [
       "0.13230000000000006"
      ]
     },
     "execution_count": 8,
     "metadata": {},
     "output_type": "execute_result"
    }
   ],
   "source": [
    "def fatorial(n):\n",
    "    prod = 1\n",
    "    for i in range(1, n + 1):\n",
    "        prod *= i\n",
    "    return prod\n",
    "\n",
    "def combinacao(n, x):\n",
    "    return fatorial(n) / (fatorial(x) * fatorial(n - x))\n",
    "\n",
    "def binomial(x, n, p):\n",
    "    return combinacao(n, x) * p ** x * (1.0 - p) ** (n - x) \n",
    "\n",
    "binomial(2, 5, 0.7)"
   ]
  },
  {
   "cell_type": "markdown",
   "metadata": {},
   "source": [
    "1.23. Escreva uma função que calcula $P(X = x)$ ou $P(X <= x)$ (o usuário escolhe), tal que $X \\sim Binomial(n, p)$."
   ]
  },
  {
   "cell_type": "code",
   "execution_count": 11,
   "metadata": {},
   "outputs": [
    {
     "data": {
      "text/plain": [
       "0.16308000000000009"
      ]
     },
     "execution_count": 11,
     "metadata": {},
     "output_type": "execute_result"
    }
   ],
   "source": [
    "def fatorial(n):\n",
    "    prod = 1\n",
    "    for i in range(1, n + 1):\n",
    "        prod *= i\n",
    "    return prod\n",
    "\n",
    "def combinacao(n, x):\n",
    "    return fatorial(n) / (fatorial(x) * fatorial(n - x))\n",
    "\n",
    "def binomial(x, n, p, cumulativo=False):\n",
    "    prob = combinacao(n, x) * p ** x * (1.0 - p) ** (n - x) \n",
    "    if cumulativo:\n",
    "        total = 0\n",
    "        for i in range(x):\n",
    "            total += combinacao(n, i) * p ** i * (1.0 - p) ** (n - i)\n",
    "        prob = total + prob\n",
    "    return prob\n",
    "\n",
    "binomial(2, 5, 0.7, cumulativo=True)"
   ]
  },
  {
   "cell_type": "markdown",
   "metadata": {},
   "source": [
    "1.24. Escreva uma função que recebe uma lista, um valor e uma função de comparação e retorna uma sub-lista apenas com os elementos para os quais a função fornecida retorna **True**."
   ]
  },
  {
   "cell_type": "code",
   "execution_count": 12,
   "metadata": {},
   "outputs": [
    {
     "data": {
      "text/plain": [
       "[1, 2, 0, 9, -1, 11, 4]"
      ]
     },
     "execution_count": 12,
     "metadata": {},
     "output_type": "execute_result"
    }
   ],
   "source": [
    "def gerar_sub_lista(l, target, func):\n",
    "    return [x for x in l if func(x, target)]\n",
    "\n",
    "gerar_sub_lista([5, 1, 2, 5, 0, 9, -1, 11, 5, 4], 5, lambda x, v: x != v)"
   ]
  },
  {
   "cell_type": "markdown",
   "metadata": {},
   "source": [
    "1.25. (Desafio: Recursão). Recursão é uma abordagem para solucionar problemas que envolve dividir a tarefa em partes menores do mesmo tipo, i.e. é uma abordagem do tipo dividir-para-conquistar. Do ponto de vista computacional, um problema resolvido usando recursão envolve uma função que chama a si mesma até que o problema seja resolvido. Uma parte importante desse tipo de solução é a definição do ponto de parada da recursão, quando a função para de chamar a si mesma e começar a retornar os valores para as chamadas mais \"acima\". Vejamos um exemplo de recursão para o cálculo do fatorial de um número *n*:"
   ]
  },
  {
   "cell_type": "code",
   "execution_count": 15,
   "metadata": {},
   "outputs": [
    {
     "name": "stdout",
     "output_type": "stream",
     "text": [
      "1\n",
      "1\n",
      "120\n"
     ]
    }
   ],
   "source": [
    "def fatorial(n):\n",
    "    if n == 0:\n",
    "        return 1\n",
    "    else:\n",
    "        return n * fatorial(n - 1)\n",
    "\n",
    "print(fatorial(0))\n",
    "print(fatorial(1))\n",
    "print(fatorial(5))"
   ]
  },
  {
   "cell_type": "markdown",
   "metadata": {},
   "source": [
    "Agora implemente uma função recursiva que recebe um número e retorna o número correspondente na sequência de Fibonacci."
   ]
  },
  {
   "cell_type": "code",
   "execution_count": 53,
   "metadata": {},
   "outputs": [
    {
     "data": {
      "text/plain": [
       "(0, 1, 6765)"
      ]
     },
     "execution_count": 53,
     "metadata": {},
     "output_type": "execute_result"
    }
   ],
   "source": [
    "def fibonacci(n):\n",
    "    if n == 0:\n",
    "        return 0\n",
    "    elif n == 1:\n",
    "        return 1\n",
    "    else:\n",
    "        return fibonacci(n - 2) + fibonacci(n - 1)\n",
    "\n",
    "fibonacci(0), fibonacci(1), fibonacci(20)"
   ]
  },
  {
   "cell_type": "markdown",
   "metadata": {},
   "source": [
    "1.26. (Algoritmo de ordenação: Bubble sort). Bubble sort é um algoritmo muito simples. Ele começa no início da lista e compara os dois primeiros elementos. Se o primeiro for maior do que o segundo, eles são trocados. Esse processo se repete para cada par subsequente, até o final da lista. Depois o algoritmo volta ao início da lista e recomeça o processo, repetindo-o até não haver mais trocas. Implemente uma função que recebe uma lista e retorna seus elementos ordenados usando o algoritmo bubble sort."
   ]
  },
  {
   "cell_type": "code",
   "execution_count": 16,
   "metadata": {},
   "outputs": [
    {
     "data": {
      "text/plain": [
       "[-1, 0, 1, 2, 4, 5, 8, 9, 10, 11]"
      ]
     },
     "execution_count": 16,
     "metadata": {},
     "output_type": "execute_result"
    }
   ],
   "source": [
    "def bubble_sort(l):\n",
    "    continuarOrdenando = True\n",
    "    while continuarOrdenando:\n",
    "        continuarOrdenando = False\n",
    "        for i in range(len(l) - 1):\n",
    "            if l[i] > l[i + 1]:\n",
    "                temp = l[i + 1]\n",
    "                l[i + 1] = l[i]\n",
    "                l[i] = temp\n",
    "                continuarOrdenando = True\n",
    "    return l\n",
    "\n",
    "l = [10, 1, 2, 8, 0, 9, -1, 11, 5, 4]\n",
    "bubble_sort(l)"
   ]
  },
  {
   "cell_type": "markdown",
   "metadata": {},
   "source": [
    "1.27. (Algoritmo de ordenação: Insertion sort). Algoritmo relativamente eficiente para listas pequenas e comumente usado como parte de algoritmos mais sofisticados. Ele funciona da seguinte maneira: a cada iteração, o algoritmo remove um elemento da lista, encontra seu lugar na lista ordenada e insere o elemento. Assim, a parte ordenada da lista cresce a cada iteração. A ordenação é feita na própria lista. A cada posição da lista, o algoritmo compara seu valor com o maior valor da parte ordenada. Se for maior, o elemento é mntido e o algoritmo passa para a próxima posição. Se for menor, ele acha a posição correta do elemento na parte ordenada e move todos os valores maiores para abrir espaço e inserir o elemento. Implemente uma função que recebe uma lista e retorna seus elementos ordenados usando o algoritmo insertion sort."
   ]
  },
  {
   "cell_type": "code",
   "execution_count": 17,
   "metadata": {},
   "outputs": [
    {
     "data": {
      "text/plain": [
       "[-1, 0, 1, 2, 4, 5, 8, 9, 10, 11]"
      ]
     },
     "execution_count": 17,
     "metadata": {},
     "output_type": "execute_result"
    }
   ],
   "source": [
    "def insertion_sort(l):    \n",
    "    for i in range(1, len(l)):\n",
    "        key = l[i]\n",
    "        k =i\n",
    "        while k > 0 and key < l[k - 1]:\n",
    "            l[k] = l[k - 1]\n",
    "            k -= 1\n",
    "        l[k] = key\n",
    "    return l\n",
    "\n",
    "l = [10, 1, 2, 8, 0, 9, -1, 11, 5, 4]\n",
    "insertion_sort(l) "
   ]
  },
  {
   "cell_type": "markdown",
   "metadata": {},
   "source": [
    "1.28. (Algoritmo de ordenação: Selection sort). O selection sort divide o array de entrada em duas partes: a parte ordenada, que ocupa a extremidade esquerda do array, e a parte não-ordenada, que ocupa a parte direita do array. O algoritmo busca o menor elemento da parte não-ordenada e o troca com o elemento mais à esquerda da parte não-ordenada, movendo a fronteira entre as duas partes do array uma posição para a direita. O selection sort é quadrático em todos os casos. Implemente uma função que recebe uma lista e retorna seus elementos ordenados usando o algoritmo selection sort."
   ]
  },
  {
   "cell_type": "code",
   "execution_count": 18,
   "metadata": {},
   "outputs": [
    {
     "data": {
      "text/plain": [
       "[-1, 0, 1, 2, 4, 5, 8, 9, 10, 11]"
      ]
     },
     "execution_count": 18,
     "metadata": {},
     "output_type": "execute_result"
    }
   ],
   "source": [
    "def selection_sort(l):\n",
    "    for i in range(len(l) - 1):\n",
    "        j_minimum = i        \n",
    "        for j in range(i + 1, len(l)):\n",
    "            if l[j] < l[j_minimum]:\n",
    "                j_minimum = j\n",
    "                \n",
    "        temp = l[j_minimum]\n",
    "        l[j_minimum] = l[i]\n",
    "        l[i] = temp\n",
    "    return l\n",
    "            \n",
    "\n",
    "l = [10, 1, 2, 8, 0, 9, -1, 11, 5, 4]\n",
    "selection_sort(l)            "
   ]
  },
  {
   "cell_type": "markdown",
   "metadata": {},
   "source": [
    "1.29. (Algoritmo de ordenação: Merge sort). Usa a abordagem dividir para conquistar, aproveitando-se da facilidade de unir duas listas ordenadas em uma nova lista. O algoritmo divide a lista em n listas, cada uma com um elemeno. Uma lista com 1 elemento é considerada ordenada. Depois, o algoritmo repetidamente une arrays adjacentes, produzindo novos arrays ordenados, até que o único array restante contenha todos os elementos ordenados. Para unir dois arrays ordenados, o algoritmo seleciona o menor elemento de cada array e os compara, colocando o menor na primeira posição livre do novo array, e comparando o elemento que sobrou com o novo menor elemento do outro array e assim sucessivamente. Implemente uma função que recebe uma lista e retorna seus elementos ordenados usando o algoritmo merge sort.         "
   ]
  },
  {
   "cell_type": "code",
   "execution_count": 19,
   "metadata": {},
   "outputs": [
    {
     "name": "stdout",
     "output_type": "stream",
     "text": [
      "[-1, 0, 1, 2, 4, 5, 8, 9, 10, 11]\n"
     ]
    }
   ],
   "source": [
    "def merge_sort(l):\n",
    "    if len(l) > 1:\n",
    "        middle = len(l)//2\n",
    "        #também é valido: middle = int(len(l)/2)\n",
    "        left_list = l[:middle]\n",
    "        right_list = l[middle:]\n",
    "        left_list = merge_sort(left_list)\n",
    "        right_list = merge_sort(right_list)\n",
    "        i = 0\n",
    "        j = 0\n",
    "        k = 0\n",
    "        while i < len(left_list) and j < len(right_list):\n",
    "            if left_list[i] < right_list[j]:\n",
    "                l[k] = left_list[i]\n",
    "                i += 1\n",
    "            else:\n",
    "                l[k] = right_list[j]\n",
    "                j += 1\n",
    "            k += 1\n",
    "\n",
    "        while i < len(left_list):\n",
    "\n",
    "            l[k] = left_list[i]\n",
    "            i += 1\n",
    "            k += 1\n",
    "\n",
    "        while j < len(right_list):\n",
    "            l[k] = right_list[j]\n",
    "            j += 1\n",
    "            k += 1\n",
    "    return l\n",
    "\n",
    "l = [10, 1, 2, 8, 0, 9, -1, 11, 5, 4]\n",
    "print(merge_sort(l))"
   ]
  },
  {
   "cell_type": "markdown",
   "metadata": {},
   "source": [
    "1.30. (Algoritmo de ordenação: Quicksort). Assim como o merge sort, o quicksort é um algoritmo que usa a abordagem dividir para conquistar, mais especificamente, uma abordagem de partição. O algoritmo seleciona um elemento, chamado de pivô, e coloca todos os elementos menores do que o pivô antes dele e todos os maiores depois dele. Os dois sub-arrays são então recursivamente ordenados, seguindo o mesmo processo. Implementações eficientes do quicksort estão entre os algoritmos de ordenação mais rápidos na prática. Implemente uma função que recebe uma lista e retorna seus elementos ordenados usando o algoritmo quicksort. "
   ]
  },
  {
   "cell_type": "code",
   "execution_count": 20,
   "metadata": {},
   "outputs": [
    {
     "data": {
      "text/plain": [
       "[-1, 0, 1, 2, 4, 5, 8, 9, 10, 11]"
      ]
     },
     "execution_count": 20,
     "metadata": {},
     "output_type": "execute_result"
    }
   ],
   "source": [
    "def quicksort(l, ini, end):\n",
    "    i = ini\n",
    "    j = end\n",
    "    index_pivot = (ini + end) // 2\n",
    "    pivot = l[index_pivot]\n",
    "    while i <= j:\n",
    "        while l[i] < pivot:\n",
    "            i += 1\n",
    "        while l[j] > pivot:\n",
    "            j -= 1\n",
    "        if i <= j:\n",
    "            temp = l[i]\n",
    "            l[i] = l[j]\n",
    "            l[j] = temp\n",
    "            i += 1\n",
    "            j -= 1\n",
    "    if ini < j:\n",
    "        quicksort(l, ini, j)\n",
    "    if i < end:\n",
    "        quicksort(l, i, end)\n",
    "        \n",
    "    return l\n",
    "\n",
    "l = [10, 1, 2, 8, 0, 9, -1, 11, 5, 4]\n",
    "quicksort(l, 0, len(l) - 1)"
   ]
  },
  {
   "cell_type": "code",
   "execution_count": null,
   "metadata": {},
   "outputs": [],
   "source": []
  }
 ],
 "metadata": {
  "kernelspec": {
   "display_name": "Python 3",
   "language": "python",
   "name": "python3"
  },
  "language_info": {
   "codemirror_mode": {
    "name": "ipython",
    "version": 3
   },
   "file_extension": ".py",
   "mimetype": "text/x-python",
   "name": "python",
   "nbconvert_exporter": "python",
   "pygments_lexer": "ipython3",
   "version": "3.11.1"
  }
 },
 "nbformat": 4,
 "nbformat_minor": 2
}
