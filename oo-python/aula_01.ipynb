{
  "cells": [
    {
      "attachments": {},
      "cell_type": "markdown",
      "metadata": {
        "id": "nt1DcgDkePsM"
      },
      "source": [
        "# 1. Classes e objetos\n",
        "\n",
        "É possível criar **novos tipos** em uma linguagem através do conceito de **classes**. Cada variável criada a partir da classe é denominada de **objeto** ou **instância de classe**.\n"
      ]
    },
    {
      "attachments": {},
      "cell_type": "markdown",
      "metadata": {
        "id": "k1WnNlethQvT"
      },
      "source": [
        "## 1.1. Campos de uma classe\n",
        "\n",
        "É possível associar ao objeto da classe **variáveis básicas** e **coleções**. Essas variáveis são denominadas de **campos de classe** e podem ter um valor inicial. Um exemplo de sintaxe é dado por:\n",
        "\n",
        "> **class** Nome_da_Classe\n",
        ">>**campo1** = valor1<br>\n",
        ">>**campo2** = valor2\n",
        "\n",
        "Um exemplo é a criação da classe **Retangulo** que pode ser relacionada com duas variáveis básicas **x** e **y** associadas aos lados de um retângulo.\n",
        "\n",
        "Para se criar um objeto de um dada classe usa-se a seguinte sintaxe:\n",
        "\n",
        "> **objeto1** = **Nome_da_Classe()**\n",
        "\n",
        "\n",
        "Após a criação de um objeto, é possível acessar os campos da classe utilizando o operador **'.'** através da seguinte sintaxe:\n",
        "\n",
        "> **objeto.nome_campo**\n",
        "\n",
        "O exemplo a seguir ilustra a criação de uma **classe Retangulo** cujos objetos terão campos de classe **x** e **y**. Após a criação do objeto **r1** é verificado quais são os valores contidos nos campos de classe desse objeto."
      ]
    },
    {
      "cell_type": "code",
      "execution_count": 3,
      "metadata": {
        "colab": {
          "base_uri": "https://localhost:8080/",
          "height": 52
        },
        "id": "LDVfX60eToRj",
        "outputId": "66a99a76-e239-4c31-d05a-9d83c4083b91"
      },
      "outputs": [
        {
          "name": "stdout",
          "output_type": "stream",
          "text": [
            "x= 0\n",
            "y= 0\n"
          ]
        }
      ],
      "source": [
        "# Criação do novo tipo: retangulo (campos x e y).\n",
        "class Retangulo:\n",
        "    x = 0\n",
        "    y = 0\n",
        "\n",
        "# Criação de um objeto r1 da classe (tipo) retangulo.\n",
        "r1 = Retangulo()\n",
        "\n",
        "# Variáveis x e y relacionadas ao objeto r1.\n",
        "print('x=', r1.x)\n",
        "print('y=', r1.y)"
      ]
    },
    {
      "cell_type": "markdown",
      "metadata": {
        "id": "2cF9Xo4MhfCD"
      },
      "source": [
        "## 1.2. Métodos de uma classe\n",
        "\n",
        "É possível relacionar **funções específicas** para **todas** as **instâncias** de uma classe. Essas funções são denominadas de **métodos** de uma **classe**.\n",
        "\n",
        "O exemplo a seguir fornece **dois métodos** para os objetos da **classe Imp**: \n",
        "\n",
        "1. **print()**: método que imprime a mensagem 'Método print acionado';\n",
        "\n",
        "2. **printE(var)**: método que retorna uma **string** com uma mensagem mais o contéudo de uma variável **var**.\n",
        "\n",
        "Após a definição das funções, existem duas linhas de código para acionar os métodos elaborados para a classe. Assim, ao se criar um objeto da classe, automaticamente os métodos serão acionados.\n"
      ]
    },
    {
      "cell_type": "code",
      "execution_count": 12,
      "metadata": {
        "colab": {
          "base_uri": "https://localhost:8080/"
        },
        "id": "W7tjXVBvizKi",
        "outputId": "f5319252-976b-4e99-da13-e1352020f7db"
      },
      "outputs": [],
      "source": [
        "class Impressora: # definição da classe\n",
        "    \n",
        "    # Atributo x\n",
        "    x = 0\n",
        "\n",
        "    # Metodo print padrao\n",
        "    def print_padrao(self):\n",
        "        print('Olá, sejam bem-vindos!')\n",
        "\n",
        "    # Metodo print complexo\n",
        "    def print_complexo(self, mensagem):\n",
        "        print('MSG=', mensagem)\n",
        "\n",
        "    # Metodo print composto\n",
        "    def print_composto(self, msg):\n",
        "        self.print_padrao()\n",
        "        self.print_complexo(msg)\n",
        "\n",
        "i = Impressora() # Criando um objeto i da classe Imp"
      ]
    },
    {
      "cell_type": "code",
      "execution_count": 9,
      "metadata": {},
      "outputs": [
        {
          "name": "stdout",
          "output_type": "stream",
          "text": [
            "Olá, sejam bem-vindos!\n"
          ]
        }
      ],
      "source": [
        "# Exemplo print padrao\n",
        "i.print_padrao()"
      ]
    },
    {
      "cell_type": "code",
      "execution_count": 10,
      "metadata": {},
      "outputs": [
        {
          "name": "stdout",
          "output_type": "stream",
          "text": [
            "MSG= Oi, teste!\n"
          ]
        }
      ],
      "source": [
        "i.print_complexo('Oi, teste!')"
      ]
    },
    {
      "cell_type": "code",
      "execution_count": 13,
      "metadata": {},
      "outputs": [
        {
          "name": "stdout",
          "output_type": "stream",
          "text": [
            "Olá, sejam bem-vindos!\n",
            "MSG= Teste!\n"
          ]
        }
      ],
      "source": [
        "i.print_composto('Teste!')"
      ]
    },
    {
      "cell_type": "markdown",
      "metadata": {
        "id": "aBuxKn96kq7M"
      },
      "source": [
        "# 2. Construtores: Inicialização dos campos de uma classe\n",
        "\n",
        "Ao se criar uma instância de uma classe é importante fornecer valores iniciais para os campos da classe. A isto é chamado de **inicialização dos campos de uma instância da classe**.\n",
        "\n",
        "Ao se criar um objeto de uma classe, implicitamente é chamada a função interna denominada **\\_\\_init\\_\\_** para realizar a inicialização dos campos de classe. Essa função também pode ser denominada de **construtor da classe**. \n",
        "\n",
        "A partir do **construtor** também é possível fornecer **parâmetros** que podem ser empregados para **inicializar** os **campos** de uma instância da classe. Para tanto a seguinte sintaxe deverá ser empregado no momento de criação de uma instância (ou objeto) da classe:\n",
        "\n",
        "> **obj = Nome_da_Classe(parâmetros)**\n",
        "\n",
        "A palavra-chave **self** permite que se tenha acesso aos **valores** contidos nos **campos** de classe da **instância atual**, utilizando a seguinte sintaxe:\n",
        "\n",
        ">**self.campo_de_classe**\n",
        "\n",
        "Após a inicialização é posição acessar os campos da classe utilizando o operador **'.'** através da seguinte sintaxe:\n",
        "\n",
        "> **objeto.nome_campo**\n",
        "\n",
        "No exemplo a seguir, a classe **Retangulo** é modificada de modo a empregar um construtor tal como dado a seguir. Depois é criado um **objeto** da classe com **parâmetros** para **inicializar** os campos de classe. Por último, os valores contidos nos campos de classe são acessados através do operador **'.'**."
      ]
    },
    {
      "cell_type": "code",
      "execution_count": 14,
      "metadata": {
        "colab": {
          "base_uri": "https://localhost:8080/",
          "height": 52
        },
        "id": "ufNRDyu2JoPv",
        "outputId": "a7fe0bdf-50fc-4e24-f43c-d1470df51662"
      },
      "outputs": [
        {
          "name": "stdout",
          "output_type": "stream",
          "text": [
            "x= 9\n",
            "y= 8\n"
          ]
        }
      ],
      "source": [
        "class Retangulo:\n",
        "\n",
        "  x = 0\n",
        "  y = 0\n",
        "  \n",
        "  # Construtor da classe: valores iniciais para os campos x e y.\n",
        "  def __init__(self, x, y):\n",
        "    self.x = x\n",
        "    self.y = y\n",
        " \n",
        "\n",
        "\n",
        "# Criação de um objeto r1 da classe (tipo) retangulo.\n",
        "r1 = Retangulo(9, 8)\n",
        "\n",
        "# Variáveis x e y relacionadas ao objeto r1.\n",
        "print('x=', r1.x)\n",
        "print('y=', r1.y)\n",
        "\n"
      ]
    },
    {
      "cell_type": "markdown",
      "metadata": {
        "id": "KZ7q4UhwpwKh"
      },
      "source": [
        "# 3. Métodos com valores padrão\n",
        "\n",
        "É possível definir **qualquer método** para que seus **parâmetros** tenham **valores padrão**, ou seja, caso o método seja invocado, mas nenhum valor seja fornecido para o parâmetros, valores padrão serão empregados.\n",
        "\n",
        "Isso pode ser realizado inclusive para os métodos que inicializam os valores dos campos de uma classe, isto é, os **construtores**."
      ]
    },
    {
      "cell_type": "code",
      "execution_count": 17,
      "metadata": {
        "colab": {
          "base_uri": "https://localhost:8080/"
        },
        "id": "a49tnl8jsDKu",
        "outputId": "08d60342-d99a-4fa5-9ce2-e2a1a17c89eb"
      },
      "outputs": [
        {
          "ename": "TypeError",
          "evalue": "Retangulo.__init__() got multiple values for argument 'x'",
          "output_type": "error",
          "traceback": [
            "\u001b[1;31m---------------------------------------------------------------------------\u001b[0m",
            "\u001b[1;31mTypeError\u001b[0m                                 Traceback (most recent call last)",
            "Cell \u001b[1;32mIn[17], line 9\u001b[0m\n\u001b[0;32m      6\u001b[0m     \u001b[39mself\u001b[39m\u001b[39m.\u001b[39my \u001b[39m=\u001b[39m y\n\u001b[0;32m      8\u001b[0m \u001b[39m# Criação de um objeto r1 da classe (tipo) retangulo.\u001b[39;00m\n\u001b[1;32m----> 9\u001b[0m r1 \u001b[39m=\u001b[39m Retangulo(\u001b[39m9\u001b[39;49m, x\u001b[39m=\u001b[39;49m\u001b[39m2.2\u001b[39;49m)\n\u001b[0;32m     11\u001b[0m \u001b[39m# Variáveis x e y relacionadas ao objeto r1.\u001b[39;00m\n\u001b[0;32m     12\u001b[0m \u001b[39mprint\u001b[39m(\u001b[39m\"\u001b[39m\u001b[39mr1.x = \u001b[39m\u001b[39m\"\u001b[39m,r1\u001b[39m.\u001b[39mx)\n",
            "\u001b[1;31mTypeError\u001b[0m: Retangulo.__init__() got multiple values for argument 'x'"
          ]
        }
      ],
      "source": [
        "class Retangulo:\n",
        "  \n",
        "  # Construtor da classe: valores iniciais para os campos.\n",
        "  def __init__(self, x = 0.0, y = 0.0):\n",
        "    self.x = x\n",
        "    self.y = y\n",
        "\n",
        "# Criação de um objeto r1 da classe (tipo) retangulo.\n",
        "r1 = Retangulo(9, y=2.2)\n",
        "\n",
        "# Variáveis x e y relacionadas ao objeto r1.\n",
        "print(\"r1.x = \",r1.x)\n",
        "print(\"r1.y = \",r1.y)"
      ]
    },
    {
      "cell_type": "code",
      "execution_count": null,
      "metadata": {},
      "outputs": [],
      "source": []
    },
    {
      "cell_type": "markdown",
      "metadata": {
        "id": "Ih1kwHSZjjAP"
      },
      "source": [
        "# 4. Motivo para utilizar objetos e classes, campos e métodos\n",
        "\n",
        "\n",
        "É importante reforçar que, além dos construtores, é possível associar a todos os objetos de uma dada classe, outras funções que estão relacionadas às possíveis operações que podem ser realizadas para aquela classe. Estas funções são denominadas de forma geral como **métodos**.\n",
        "\n",
        "De um ponto de vista mais geral, a **programação orientada a objetos** (**POO**) tem por objetivo estabelecer a visão de que **dados** e **funções** devem conjugados em novos tipos (**classes**) que servirão para gerar variáveis (**objetos**) de acordo com uma estrutura padrão.  \n",
        "\n",
        "Assim, ao se criar um objeto de uma classe já se sabe de antemão quais dados (**campos**) e funções (**métodos**) devem fornecidos ou podem ser empregados, respectivamente.\n",
        "\n",
        "Uma outra característica é que a **abstração** fornecida através de **classes** possibilita uma melhor organização de um programa de computador para modelar o **comportamento de objetos do mundo real**.\n",
        "\n",
        "Um ponto comum a todos os métodos da classe é que elas tem sempre como parâmetro de entrada a palavra-chave **self**.  Com isso todos os métodos podem obter acesso aos **valores** contidos nos **campos** de classe da **instância atual**, utilizando a seguinte sintaxe:\n",
        "\n",
        "> **self.campo_de_classe**\n",
        "\n",
        "Para o caso da classe **Retangulo** é possível associar funções como **calculoPerimetro** e **calculoArea** aos objetos da classe **Retangulo**. Também é possível definir uma função **print** que imprime os conteúdos dos campos de classe.\n",
        "\n"
      ]
    },
    {
      "cell_type": "code",
      "execution_count": null,
      "metadata": {
        "colab": {
          "base_uri": "https://localhost:8080/",
          "height": 70
        },
        "id": "kxWuLwiFjXxo",
        "outputId": "13b77a5b-e1b5-49b1-d67f-35e429d3abe3"
      },
      "outputs": [],
      "source": [
        "# Criação do novo tipo: retangulo.\n",
        "class Retangulo:\n",
        "\n",
        "  # Construtor da classe\n",
        "  def __init__(self, x=2, y=2):\n",
        "    self.x = x\n",
        "    self.y = y\n",
        "\n",
        "  # Método para cálculo do perímetro usando\n",
        "  # os valores contidos nos campos de classe (2*x + 2*y)\n",
        "  # ...\n",
        "\n",
        "  # Cálculo da área (x * y)\n",
        "  # ...\n",
        "\n",
        "  # Método para retorno dos conteúdos dos \n",
        "  # campos de classe (string formatada)\n",
        "  # ..."
      ]
    },
    {
      "cell_type": "code",
      "execution_count": null,
      "metadata": {},
      "outputs": [],
      "source": [
        "# Exemplo 1:\n",
        "\n",
        "# Criação de um objeto r1 da classe (tipo) retangulo.\n",
        "r1 = Retangulo(1.1, 2.2)\n",
        "\n",
        "# Metodos e atributos relacionadas ao objeto r1."
      ]
    },
    {
      "cell_type": "code",
      "execution_count": null,
      "metadata": {},
      "outputs": [],
      "source": [
        "# Exemplo 2:"
      ]
    },
    {
      "attachments": {},
      "cell_type": "markdown",
      "metadata": {
        "id": "fG5IQDXgRjIe"
      },
      "source": [
        "# 5. Acesso direto aos valores dos campos\n",
        "\n",
        "No exemplo anterior, o acesso aos valores dos campos do objeto foi realizado apenas através de funções. Essa é uma prática comum quando do uso do paradigma de orientação a objetos (**POO**). \n",
        "\n",
        "Porém, a linguagem de programação Python assume que os programadores são responsáveis e sabem o que estão fazendo, sendo uma prática comum a realização do acesso direto aos valores contidos nos campos dos objetos de uma classe. \n",
        "\n",
        "Um exemplo dessa sintaxe é dado por:\n",
        "\n",
        "> **objeto1.campo1**\n",
        "\n",
        "Para reforçar como esse acesso direto pode ser realizado é dado o exemplo a seguir.\n",
        "\n",
        "Cabe porém destacar que em **POO** podem existir diferentes níveis de permissão de acesso aos campos de uma classe. Esses níveis serão descritos mais adiante."
      ]
    },
    {
      "cell_type": "code",
      "execution_count": null,
      "metadata": {
        "colab": {
          "base_uri": "https://localhost:8080/",
          "height": 52
        },
        "id": "1KaBLnSvR5iI",
        "outputId": "a677c0f1-ec1b-44ab-9a86-2765abf62ca3"
      },
      "outputs": [],
      "source": [
        "# Criação de um objeto r2 da classe (tipo) retangulo.\n",
        "r2 = Retangulo(1.1,2.2)\n",
        "\n",
        "# Variáveis x e y relacionadas ao objeto r2.\n",
        "print(\"r2.x = \",r2.x)\n",
        "print(\"r2.y = \",r2.y)"
      ]
    },
    {
      "cell_type": "markdown",
      "metadata": {
        "id": "rhx01WnaQpUF"
      },
      "source": [
        "# 6. Apagando objetos ou campos de classe\n",
        "\n",
        "O acesso direto aos campos de uma classe também possibilita apagar um objeto ou um campo de um objeto de uma classe através das seguintes sintaxes:\n",
        "\n",
        "* Apagando um campo de um objeto:\n",
        "> **del** objeto.campo\n",
        "\n",
        "* Apagando um objeto:\n",
        "> **del** objeto"
      ]
    },
    {
      "cell_type": "code",
      "execution_count": 18,
      "metadata": {
        "colab": {
          "base_uri": "https://localhost:8080/",
          "height": 52
        },
        "id": "-yV0weCPRUVd",
        "outputId": "bfe44425-b534-4101-a197-e51f3bf98e23"
      },
      "outputs": [
        {
          "name": "stdout",
          "output_type": "stream",
          "text": [
            "r3.x =  1.1\n",
            "r3.y =  99\n"
          ]
        }
      ],
      "source": [
        "# Criação de um objeto r1 da classe (tipo) retangulo.\n",
        "r3 = Retangulo(1.1, 99)\n",
        "\n",
        "# Variáveis x e y relacionadas ao objeto r3.\n",
        "print(\"r3.x = \", r3.x)\n",
        "print(\"r3.y = \",r3.y)"
      ]
    },
    {
      "cell_type": "code",
      "execution_count": 19,
      "metadata": {},
      "outputs": [],
      "source": [
        "del r3.x"
      ]
    },
    {
      "cell_type": "code",
      "execution_count": 20,
      "metadata": {},
      "outputs": [
        {
          "ename": "AttributeError",
          "evalue": "'Retangulo' object has no attribute 'x'",
          "output_type": "error",
          "traceback": [
            "\u001b[1;31m---------------------------------------------------------------------------\u001b[0m",
            "\u001b[1;31mAttributeError\u001b[0m                            Traceback (most recent call last)",
            "Cell \u001b[1;32mIn[20], line 1\u001b[0m\n\u001b[1;32m----> 1\u001b[0m r3\u001b[39m.\u001b[39;49mx\n",
            "\u001b[1;31mAttributeError\u001b[0m: 'Retangulo' object has no attribute 'x'"
          ]
        }
      ],
      "source": [
        "r3.x"
      ]
    },
    {
      "cell_type": "markdown",
      "metadata": {
        "id": "OOiep1NYHf96"
      },
      "source": [
        "# 7. Modificadores de acesso: public, private e protected\n",
        "\n",
        "Tantos os **métodos** quanto os **campos** de uma classe podem sua permissão de acesso modificada de modo a definir quais elementos podem ter acesso aos mesmos. Os **modificadores de acesso** podem ser de três tipos:\n",
        "\n",
        "* **private** - Apenas a classe atual (classe na qual o método ou campo foi definido) terá acesso: usa-se o operador **__**;\n",
        "\n",
        "* **protected** - Apenas a classe atual e suas subclasses (classes geradas a partir do mecanismo de **herança**) ou classes no mesmo pacote terão acesso: usa-se o operador **_** ;\n",
        "\n",
        "* **public** - Qualquer classe pode se referir ao método ou campo da classe: não é necessário usar nenhum operador.\n",
        "\n",
        "Observações importantes:\n",
        "\n",
        "1. o **mecanismo de geração de classes** a partir de outras classes, conhecido como **herança**, será discutido mais a frente; \n",
        "\n",
        "2. Os **modificadores de acesso** são palavra-chaves que devem ser empregadas como parte da declaração do campo ou do método ao se definir a classe;\n",
        "\n",
        "3. Os modificadores são importantes para se implementar o conceito de **encapsulamento**. \n",
        "\n",
        "\n",
        "**Encapsulamento** é uma forma de proteger os dados de modificações indesejadas ao se obrigar que os mesmos só sejam acessíveis através de um conjunto de funções da classe (**métodos**).\n",
        "\n",
        "Pode-se dizer que o **encapsulamento** está intimamente relacionado com o conceito de classe tendo em vista que a classe busca reunir dados e funções em uma única estrutura. Ao fazer isso, a classe permite que certos valores só sejam acessíveis através do uso de funções específicas. Com isso, busca-se eliminar o acesso indevido aos dados por funções que não o poderiam fazer como pode ocorrer na **programação procedural**.\n"
      ]
    },
    {
      "cell_type": "markdown",
      "metadata": {
        "id": "_7w1LP4ncKuT"
      },
      "source": [
        "## 7.1. Modificador de acesso: campos da classe\n",
        "\n",
        "O código a seguir ilustra o uso de modificador de acesso para **campos de uma classe**.\n",
        "\n",
        "No código a classe retângulo possui dois campos: x que é **privated** (uso do operador \"__x\" antes do nome **x**) e y que é **protected** (uso do operador '_y' antes do nome **y**).\n",
        "\n",
        "Os valores contidos nos campos **x** e **y**, transformados em **string** só podem ser acessados através das funções **printX** e **printY**, respectivamente. \n",
        "\n",
        "Observados que o valor de **x** não pode ser modificado a menos que seja através de um método apropriado. Porém, **y** pode ser acessado e modificado diretamente. \n",
        "\n",
        "Observar que o comando **r.__x** não acessa o valor do campo **x** de **r** que é **private**, e sim apenas cria uma variável de nome **r.__x**. Assim, apenas **printX()** exibe o valor desse campo.\n",
        "\n",
        "Para ilustrar esse conceito uma variável de nome **r.__z** é criada e seu conteúdo é exibido."
      ]
    },
    {
      "cell_type": "code",
      "execution_count": 22,
      "metadata": {
        "colab": {
          "base_uri": "https://localhost:8080/"
        },
        "id": "-Aqn_4YDTRmK",
        "outputId": "a123e234-3f66-48e4-8e72-fd129cf9f847"
      },
      "outputs": [
        {
          "name": "stdout",
          "output_type": "stream",
          "text": [
            "r1.x =  1.1\n",
            "r1.y =  2.2\n"
          ]
        }
      ],
      "source": [
        "class Retangulo:\n",
        "\n",
        "  # Construtor da classe: valores iniciais para os campos.\n",
        "  def __init__(self, x, y):\n",
        "    self.__x = x # private\n",
        "    self._y = y # protected\n",
        "\n",
        "  def printX(self):\n",
        "    s = ''+str(self.__x)\n",
        "    return s   \n",
        "\n",
        "  def printY(self):\n",
        "    s = ''+str(self._y)\n",
        "    return s  \n",
        "\n",
        "# Criação de um objeto r1 da classe (tipo) retangulo.\n",
        "r = Retangulo(1.1, 2.2)\n",
        "\n",
        "# Variáveis x e y relacionadas ao objeto r.\n",
        "print(\"r1.x = \",r.printX())\n",
        "print(\"r1.y = \",r.printY())"
      ]
    },
    {
      "cell_type": "code",
      "execution_count": 23,
      "metadata": {},
      "outputs": [
        {
          "name": "stdout",
          "output_type": "stream",
          "text": [
            "r.x =  1.1\n",
            "r.__x =  7\n"
          ]
        }
      ],
      "source": [
        "r.__x = 7\n",
        "print('r.x = ',r.printX())\n",
        "print('r.__x = ',r.__x)"
      ]
    },
    {
      "cell_type": "markdown",
      "metadata": {
        "id": "pSdYIoLbcTFA"
      },
      "source": [
        "## 7.2. Modificador de acesso: Métodos\n",
        "\n",
        "O código a seguir ilustra o uso de modificador de acesso para **métodos de uma classe**.\n",
        "\n",
        "No código a **classe A** possui um campo x que é **privated** (uso do operador \"__x\" antes do nome **x**).\n",
        "\n",
        "Os métodos **fun** e **_fun** podem ser acionados através do objeto **obj1** funções **printX** e **printY**, respectivamente. Já o método '__fun' se for utilizado irá gerar um erro de compilação, isto é, o programa será impedido de ser executado.  Neste sentido, irá aparecer a mensagem de que a função não existe, mas na verdade ela não é acessível para métodos fora da classe."
      ]
    },
    {
      "cell_type": "code",
      "execution_count": null,
      "metadata": {
        "colab": {
          "base_uri": "https://localhost:8080/"
        },
        "id": "aoWcd5ULcZH7",
        "outputId": "32b3fdfd-e3a3-4d12-b49f-6f1433f0b37c"
      },
      "outputs": [],
      "source": [
        "class A:  \n",
        "   def __init__(self, x):\n",
        "     self.__x = x\n",
        "\n",
        "   def fun(self): \n",
        "        print(\"Public: Método A:fun, x = \",self.__x)\n",
        "  \n",
        "   def _fun(self): \n",
        "        print(\"Protected: Método A:fun, x = \",self.__x) \n",
        "    \n",
        "   def __fun(self): \n",
        "        print(\"Privated: Método A:fun x = \",self.__x) \n",
        "  \n",
        "obj1 = A(1.0) \n",
        "obj1.fun() \n",
        "obj1._fun()\n",
        "#Erro: obj1.__fun()"
      ]
    },
    {
      "cell_type": "markdown",
      "metadata": {
        "id": "NuyZtOe3fEuj"
      },
      "source": [
        "## 7.3. Burlando o acesso privated\n",
        "\n",
        "É possível burlar o acesso **privated** seja para acessar os dados de um campo ou de um método privados por meio do operador \"**obj._(nome_da_classe)**\":\n",
        "\n",
        ">\"**objeto._(nome_da_classe)__campo**\"\n",
        "\n",
        "ou\n",
        "\n",
        ">\"**objeto._(nome_da_classe)__método(parâmetros_método)**\"\n",
        "\n",
        "O código a seguir exemplifica o uso do operador descrito anteriormente.\n"
      ]
    },
    {
      "cell_type": "code",
      "execution_count": null,
      "metadata": {
        "colab": {
          "base_uri": "https://localhost:8080/"
        },
        "id": "v0tNOQjvfJOW",
        "outputId": "38986c10-8c72-4118-877a-3a747fcb2773"
      },
      "outputs": [],
      "source": [
        "obj1 = A(2.0) \n",
        "obj1._A__fun()\n",
        "print(\"A.x = \",obj1._A__x)"
      ]
    },
    {
      "cell_type": "markdown",
      "metadata": {
        "id": "P_rcgoeSstqp"
      },
      "source": [
        "# 8. Modificador *static*: campos e métodos\n",
        "\n",
        "Muitas vezes deseja-se criar uma **variável** ou **método** que seja **único** para **todas instâncias** de uma **classe**.  Nesse caso, diz-se que o campo ou método são estáticos ou **static**.\n",
        "\n",
        "Para os campos basta criar fora do escopo de qualquer método uma variável sem menção a palavra-chave **self**. Por exemplo:\n",
        "\n",
        "> **class** Exemplo:\n",
        ">> variavel_estatica\n",
        "\n",
        "No exemplo dado a seguir é interessante ter uma única variável que contabiliza o número de instâncias de classe que foram criadas.\n",
        "\n",
        "\n",
        "\n",
        "\n"
      ]
    },
    {
      "cell_type": "markdown",
      "metadata": {
        "id": "Xh2KfJbqtr36"
      },
      "source": [
        "# 8.1. Modificador *static*: campos\n",
        "\n",
        "O exemplo a seguir fornece uma classe **Aviao** que contém um campo **num_avioes**. Esse campo controla o número de instâncias criadas da classe **Aviao**. "
      ]
    },
    {
      "cell_type": "code",
      "execution_count": 1,
      "metadata": {
        "colab": {
          "base_uri": "https://localhost:8080/"
        },
        "id": "zTBTiixnn54w",
        "outputId": "2b506958-33ae-4bc6-be8b-8be9711bc4ec"
      },
      "outputs": [
        {
          "name": "stdout",
          "output_type": "stream",
          "text": [
            "counter =  1\n",
            "counter =  2\n",
            "counter =  1\n",
            "counter =  0\n"
          ]
        }
      ],
      "source": [
        "class Aviao:\n",
        "    num_avioes = 0\n",
        "\n",
        "    def __init__(self):\n",
        "        Aviao.num_avioes += 1\n",
        "\n",
        "    def __del__(self):\n",
        "        Aviao.num_avioes -= 1\n",
        "\n",
        "a1 = Aviao()\n",
        "print(\"counter = \",a1.num_avioes)\n",
        "a2 = Aviao()\n",
        "print(\"counter = \",a2.num_avioes)\n",
        "del a1\n",
        "print(\"counter = \",Aviao.num_avioes)\n",
        "del a2\n",
        "print(\"counter = \",Aviao.num_avioes)"
      ]
    },
    {
      "cell_type": "markdown",
      "metadata": {
        "id": "dqm0dwTHtqON"
      },
      "source": [
        "# 8.2. Modificador *static*: métodos\n",
        "\n",
        "Para os métodos usa-se a palavra-chave **@staticmethod**. Por exemplo:\n",
        "\n",
        "> **class** Exemplo:\n",
        ">>    nome = \"Exemplo\"\n",
        "\n",
        ">>    **@staticmethod**\n",
        "\n",
        ">>    **def** metodo_estatico():\n",
        "\n",
        "\n",
        "O exemplo a seguir fornece uma classe **Complexo** que contém dois campos: x e y referentes a parte real e a parte imaginária de um número complexo. \n",
        "\n",
        "São declarados dois tipos de métodos: **não-estáticos** e **estáticos**.\n",
        "\n",
        "Os métodos **não-estáticos** são: **print**, **soma** e **somaR**. Ou seja, cada objeto da classe que for criado terá uma cópia desses métodos.\n",
        "\n",
        "O método **print** apenas imprime o conteúdo dos campos **x** (parte real) e **y** (parte imaginária) de um dado objeto da classe **Complexo**.\n",
        "\n",
        "O **método soma** irá retornar o resultado de uma soma de números complexos no próprio objeto que invocou o método. A sintaxe para utilizar esse método é:\n",
        "\n",
        "> **c1.soma(c2)**\n",
        "\n",
        "onde **c1** e **c2** são objetos da classe **Complexo** e o método **soma** deve ser sempre chamado por um objeto da classe **Complexo** e o parâmetro de entrada será um segundo objeto de mesma classe. \n",
        "\n",
        "\n",
        "O **método somaR** irá retornar o resultado de uma soma de números complexos como um novo objeto da classe **Complexo**. A sintaxe será:\n",
        "\n",
        "> **c3 = c1.somaR(c2)**\n",
        "\n",
        "onde **c1** e **c2** são objetos da classe **Complexo** e o método **somaR** deve ser sempre chamado por um objeto da classe **Complexo** e o parâmetro de entrada será um segundo objeto de mesma classe. O resultado final será armazenado em um terceiro objeto também da mesma classe.\n",
        "\n",
        "O método **estático** é **somaE**. Qualquer instância dessa classe irá compartilhar o mesmo único método **somaE** para realizar a soma de dois números complexos. \n",
        "\n",
        "O método **somaE** representa um método estático da classe **Complexo** e só poderá ser chamado a partir da classe com a sintaxe:\n",
        "\n",
        "> **Complexo.SomaE(c1, c2)**\n",
        "\n",
        "É importante observar que neste caso os parâmetros **c1** e **c2** são instâncias da classe **Complexo**.\n",
        "\n"
      ]
    },
    {
      "cell_type": "code",
      "execution_count": null,
      "metadata": {
        "colab": {
          "base_uri": "https://localhost:8080/"
        },
        "id": "cUvI1ttb58tn",
        "outputId": "3ad8ff22-0869-4020-82da-59ba81404585"
      },
      "outputs": [],
      "source": [
        "class Complexo:\n",
        "    def __init__(self,x,y):\n",
        "        self.x = x\n",
        "        self.y = y\n",
        "\n",
        "    def print(self):\n",
        "      print(\" \",self.x,\" + \",self.y,\"*i\")\n",
        "\n",
        "    def soma(self,c):\n",
        "        self.x = self.x+c.x\n",
        "        self.y = self.y+c.y\n",
        "  \n",
        "    def somaR(self,c):\n",
        "        return Complexo(self.x+c.x,self.y+c.y)\n",
        "\n",
        "    @staticmethod\n",
        "    def somaE(c1,c2):\n",
        "      return Complexo(c1.x + c2.x, c1.y + c2.y) \n",
        "\n",
        "c1 = Complexo(1.0,2.0)\n",
        "c1.print()\n",
        "c2 = Complexo(3.0,4.0)\n",
        "c2.print()\n",
        "c2.soma(c1)\n",
        "c2.print()\n",
        "c3 = c2.somaR(c1)\n",
        "c3.print()\n",
        "c4 = Complexo.somaE(c1,c2)\n",
        "c4.print()"
      ]
    },
    {
      "cell_type": "markdown",
      "metadata": {
        "id": "tPcAKVFo-Qa_"
      },
      "source": [
        "## 8.3 Métodos de classe:\n",
        "\n",
        "São similares aos métodos **static** com a diferença importante de que:\n",
        "\n",
        "* Métodos **static** não sabem nada acerca da classe e apenas lidam com os parâmetros fornecidos;\n",
        "\n",
        "* Métodos **class** trabalham com a classe, pois seu parâmetro é a sempre a própria classe. \n",
        "\n",
        "A diferença apontada anteriormente é particularmente importante quando o mecanismo de **Herança** é utilizado. \n",
        "\n",
        "Portanto, antes de entrar em detalhes sobre esse modificador, será abordado o tópico sobre o mecanismo de **Herança**."
      ]
    }
  ],
  "metadata": {
    "colab": {
      "provenance": []
    },
    "kernelspec": {
      "display_name": "Python 3",
      "name": "python3"
    },
    "language_info": {
      "codemirror_mode": {
        "name": "ipython",
        "version": 3
      },
      "file_extension": ".py",
      "mimetype": "text/x-python",
      "name": "python",
      "nbconvert_exporter": "python",
      "pygments_lexer": "ipython3",
      "version": "3.11.1"
    }
  },
  "nbformat": 4,
  "nbformat_minor": 0
}
